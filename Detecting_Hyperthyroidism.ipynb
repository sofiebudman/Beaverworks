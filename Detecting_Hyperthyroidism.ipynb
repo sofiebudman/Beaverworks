{
  "cells": [
    {
      "cell_type": "markdown",
      "metadata": {
        "id": "XQDE8pPCpFRb"
      },
      "source": [
        "# Week 1 Challenge Project\n",
        "### Lyle Lalunio\n",
        "---\n",
        "Hypothyroidism, also called underactive thyroid or low thyroid, is a disorder of the endocrine system in which the thyroid gland does not produce enough thyroid hormone. It can cause a number of symptoms, such as poor ability to tolerate cold, a feeling of tiredness, constipation, depression, and weight gain. Occasionally there may be swelling of the front part of the neck due to goitre. Untreated hypothyroidism during pregnancy can lead to delays in growth and intellectual development in the baby or cretinism.\n",
        "\n",
        "Worldwide, too little iodine in the diet is the most common cause of hypothyroidism. In countries with enough iodine in the diet, the most common cause of hypothyroidism is the autoimmune condition Hashimoto's thyroiditis. Less common causes include: previous treatment with radioactive iodine, injury to the hypothalamus or the anterior pituitary gland, certain medications, a lack of a functioning thyroid at birth, or previous thyroid surgery. The diagnosis of hypothyroidism, when suspected, can be confirmed with blood tests measuring thyroid-stimulating hormone (TSH) and thyroxine levels.\n",
        "\n",
        "Worldwide about one billion people are estimated to be iodine deficient; however, it is unknown how often this results in hypothyroidism. In the United States, hypothyroidism occurs in 0.3–0.4% of people.\n",
        "\n",
        "And that is why we iodize salt.\n",
        "\n",
        "![alt text](https://www.mayoclinic.org/-/media/kcms/gbs/patient-consumer/images/2013/11/15/17/39/ds00181_-ds00344_-ds00353_-ds00491_-ds00492_-ds00567_-ds00660_-my00709_im01872_thyroid_gif.jpg)\n",
        "\n"
      ]
    },
    {
      "cell_type": "markdown",
      "metadata": {
        "id": "OFF1-BLiSLZ8"
      },
      "source": [
        "Background: Doctors all around the world need our help to predict whether a patient has hypothyroid disease. We have already overspent our budget to collect such complete data on about 30 attributes for 2800 patients--a good starting number, but a larger sample would certainly be preferred. Moving forward, however, we simply cannot afford to spend so much money on data collection. Therefore, we also need to determine which attributes are the most meaningful to the predictive models, and cut out the rest that don't contribute much.\n",
        "\n",
        "The boss wants to see a **balanced** model that can predict with a **high sensitivity** and **high specificity** while using a ***low amount of features***. Collecting complete data such as this is very rare, very time-consuming, and often very expensive. By minimizing the number of features, it will optimize future data collection by deciding what needs to be collected, and what doesn't."
      ]
    },
    {
      "cell_type": "markdown",
      "metadata": {
        "id": "HsZB_SGvp4mP"
      },
      "source": [
        "## Loading the data"
      ]
    },
    {
      "cell_type": "markdown",
      "metadata": {
        "id": "DWrUz9OQ0uAU"
      },
      "source": [
        "Let's read the data into a Pandas dataframe and look at the first 20 records."
      ]
    },
    {
      "cell_type": "code",
      "execution_count": null,
      "metadata": {
        "colab": {
          "base_uri": "https://localhost:8080/",
          "height": 777
        },
        "id": "s9AtXQPkzC8j",
        "outputId": "05bb4d1d-5958-4d06-e222-ffd33c77ea5f"
      },
      "outputs": [
        {
          "output_type": "execute_result",
          "data": {
            "text/plain": [
              "   Age Sex On Thyroxine Query on Thyroxine On Antithyroid Medication Sick  \\\n",
              "0   41   F            f                  f                         f    f   \n",
              "1   23   F            f                  f                         f    f   \n",
              "2   46   M            f                  f                         f    f   \n",
              "3   70   F            t                  f                         f    f   \n",
              "4   70   F            f                  f                         f    f   \n",
              "5   18   F            t                  f                         f    f   \n",
              "6   59   F            f                  f                         f    f   \n",
              "7   80   F            f                  f                         f    f   \n",
              "8   66   F            f                  f                         f    f   \n",
              "9   68   M            f                  f                         f    f   \n",
              "10  84   F            f                  f                         f    f   \n",
              "11  67   F            t                  f                         f    f   \n",
              "12  71   F            f                  f                         f    t   \n",
              "13  59   F            f                  f                         f    f   \n",
              "14  28   M            f                  f                         f    f   \n",
              "15  65   F            f                  f                         f    f   \n",
              "16  42   ?            f                  f                         f    f   \n",
              "17  63   F            f                  f                         f    f   \n",
              "18  80   F            f                  f                         f    f   \n",
              "19  28   M            f                  f                         f    f   \n",
              "\n",
              "   Pregnant Thyroid Surgery I131 Treatment Query Hypothyroid  ...  \\\n",
              "0         f               f              f                 f  ...   \n",
              "1         f               f              f                 f  ...   \n",
              "2         f               f              f                 f  ...   \n",
              "3         f               f              f                 f  ...   \n",
              "4         f               f              f                 f  ...   \n",
              "5         f               f              f                 f  ...   \n",
              "6         f               f              f                 f  ...   \n",
              "7         f               f              f                 f  ...   \n",
              "8         f               f              f                 f  ...   \n",
              "9         f               f              f                 f  ...   \n",
              "10        f               f              f                 f  ...   \n",
              "11        f               f              f                 f  ...   \n",
              "12        f               f              f                 f  ...   \n",
              "13        f               f              f                 f  ...   \n",
              "14        f               f              f                 f  ...   \n",
              "15        f               f              f                 t  ...   \n",
              "16        f               f              f                 f  ...   \n",
              "17        f               f              f                 f  ...   \n",
              "18        f               f              f                 f  ...   \n",
              "19        f               f              f                 f  ...   \n",
              "\n",
              "   TT4 Measured  TT4 T4U Measured   T4U FTI Measured  FTI TBG Measured TBG  \\\n",
              "0             t  125            t  1.14            t  109            f   ?   \n",
              "1             t  102            f     ?            f    ?            f   ?   \n",
              "2             t  109            t  0.91            t  120            f   ?   \n",
              "3             t  175            f     ?            f    ?            f   ?   \n",
              "4             t   61            t  0.87            t   70            f   ?   \n",
              "5             t  183            t   1.3            t  141            f   ?   \n",
              "6             t   72            t  0.92            t   78            f   ?   \n",
              "7             t   80            t   0.7            t  115            f   ?   \n",
              "8             t  123            t  0.93            t  132            f   ?   \n",
              "9             t   83            t  0.89            t   93            f   ?   \n",
              "10            t  115            t  0.95            t  121            f   ?   \n",
              "11            t  152            t  0.99            t  153            f   ?   \n",
              "12            t  171            t  1.13            t  151            f   ?   \n",
              "13            t   97            t  0.91            t  107            f   ?   \n",
              "14            t  109            t  0.91            t  119            f   ?   \n",
              "15            t   99            t  1.14            t   87            f   ?   \n",
              "16            t   70            t  0.86            t   81            f   ?   \n",
              "17            t  117            t  0.96            t  121            f   ?   \n",
              "18            t   99            t  0.95            t  104            f   ?   \n",
              "19            t  121            t  0.94            t  130            f   ?   \n",
              "\n",
              "   Referral Source                          Class  \n",
              "0             SVHC                 negative.|3733  \n",
              "1            other                 negative.|1442  \n",
              "2            other                 negative.|2965  \n",
              "3            other                  negative.|806  \n",
              "4              SVI                 negative.|2807  \n",
              "5            other                 negative.|3434  \n",
              "6            other                 negative.|1595  \n",
              "7              SVI                 negative.|1367  \n",
              "8              SVI                 negative.|1787  \n",
              "9              SVI                 negative.|2534  \n",
              "10             SVI                 negative.|1485  \n",
              "11           other                 negative.|3448  \n",
              "12           other                 negative.|1027  \n",
              "13             SVI                 negative.|3331  \n",
              "14            SVHC                 negative.|2043  \n",
              "15           other  compensated hypothyroid.|3169  \n",
              "16           other                 negative.|2755  \n",
              "17             SVI                 negative.|1010  \n",
              "18             SVI                  negative.|803  \n",
              "19            SVHC                 negative.|2297  \n",
              "\n",
              "[20 rows x 30 columns]"
            ],
            "text/html": [
              "\n",
              "  <div id=\"df-5c5624e2-24c2-4915-aeeb-d2a9548b3826\" class=\"colab-df-container\">\n",
              "    <div>\n",
              "<style scoped>\n",
              "    .dataframe tbody tr th:only-of-type {\n",
              "        vertical-align: middle;\n",
              "    }\n",
              "\n",
              "    .dataframe tbody tr th {\n",
              "        vertical-align: top;\n",
              "    }\n",
              "\n",
              "    .dataframe thead th {\n",
              "        text-align: right;\n",
              "    }\n",
              "</style>\n",
              "<table border=\"1\" class=\"dataframe\">\n",
              "  <thead>\n",
              "    <tr style=\"text-align: right;\">\n",
              "      <th></th>\n",
              "      <th>Age</th>\n",
              "      <th>Sex</th>\n",
              "      <th>On Thyroxine</th>\n",
              "      <th>Query on Thyroxine</th>\n",
              "      <th>On Antithyroid Medication</th>\n",
              "      <th>Sick</th>\n",
              "      <th>Pregnant</th>\n",
              "      <th>Thyroid Surgery</th>\n",
              "      <th>I131 Treatment</th>\n",
              "      <th>Query Hypothyroid</th>\n",
              "      <th>...</th>\n",
              "      <th>TT4 Measured</th>\n",
              "      <th>TT4</th>\n",
              "      <th>T4U Measured</th>\n",
              "      <th>T4U</th>\n",
              "      <th>FTI Measured</th>\n",
              "      <th>FTI</th>\n",
              "      <th>TBG Measured</th>\n",
              "      <th>TBG</th>\n",
              "      <th>Referral Source</th>\n",
              "      <th>Class</th>\n",
              "    </tr>\n",
              "  </thead>\n",
              "  <tbody>\n",
              "    <tr>\n",
              "      <th>0</th>\n",
              "      <td>41</td>\n",
              "      <td>F</td>\n",
              "      <td>f</td>\n",
              "      <td>f</td>\n",
              "      <td>f</td>\n",
              "      <td>f</td>\n",
              "      <td>f</td>\n",
              "      <td>f</td>\n",
              "      <td>f</td>\n",
              "      <td>f</td>\n",
              "      <td>...</td>\n",
              "      <td>t</td>\n",
              "      <td>125</td>\n",
              "      <td>t</td>\n",
              "      <td>1.14</td>\n",
              "      <td>t</td>\n",
              "      <td>109</td>\n",
              "      <td>f</td>\n",
              "      <td>?</td>\n",
              "      <td>SVHC</td>\n",
              "      <td>negative.|3733</td>\n",
              "    </tr>\n",
              "    <tr>\n",
              "      <th>1</th>\n",
              "      <td>23</td>\n",
              "      <td>F</td>\n",
              "      <td>f</td>\n",
              "      <td>f</td>\n",
              "      <td>f</td>\n",
              "      <td>f</td>\n",
              "      <td>f</td>\n",
              "      <td>f</td>\n",
              "      <td>f</td>\n",
              "      <td>f</td>\n",
              "      <td>...</td>\n",
              "      <td>t</td>\n",
              "      <td>102</td>\n",
              "      <td>f</td>\n",
              "      <td>?</td>\n",
              "      <td>f</td>\n",
              "      <td>?</td>\n",
              "      <td>f</td>\n",
              "      <td>?</td>\n",
              "      <td>other</td>\n",
              "      <td>negative.|1442</td>\n",
              "    </tr>\n",
              "    <tr>\n",
              "      <th>2</th>\n",
              "      <td>46</td>\n",
              "      <td>M</td>\n",
              "      <td>f</td>\n",
              "      <td>f</td>\n",
              "      <td>f</td>\n",
              "      <td>f</td>\n",
              "      <td>f</td>\n",
              "      <td>f</td>\n",
              "      <td>f</td>\n",
              "      <td>f</td>\n",
              "      <td>...</td>\n",
              "      <td>t</td>\n",
              "      <td>109</td>\n",
              "      <td>t</td>\n",
              "      <td>0.91</td>\n",
              "      <td>t</td>\n",
              "      <td>120</td>\n",
              "      <td>f</td>\n",
              "      <td>?</td>\n",
              "      <td>other</td>\n",
              "      <td>negative.|2965</td>\n",
              "    </tr>\n",
              "    <tr>\n",
              "      <th>3</th>\n",
              "      <td>70</td>\n",
              "      <td>F</td>\n",
              "      <td>t</td>\n",
              "      <td>f</td>\n",
              "      <td>f</td>\n",
              "      <td>f</td>\n",
              "      <td>f</td>\n",
              "      <td>f</td>\n",
              "      <td>f</td>\n",
              "      <td>f</td>\n",
              "      <td>...</td>\n",
              "      <td>t</td>\n",
              "      <td>175</td>\n",
              "      <td>f</td>\n",
              "      <td>?</td>\n",
              "      <td>f</td>\n",
              "      <td>?</td>\n",
              "      <td>f</td>\n",
              "      <td>?</td>\n",
              "      <td>other</td>\n",
              "      <td>negative.|806</td>\n",
              "    </tr>\n",
              "    <tr>\n",
              "      <th>4</th>\n",
              "      <td>70</td>\n",
              "      <td>F</td>\n",
              "      <td>f</td>\n",
              "      <td>f</td>\n",
              "      <td>f</td>\n",
              "      <td>f</td>\n",
              "      <td>f</td>\n",
              "      <td>f</td>\n",
              "      <td>f</td>\n",
              "      <td>f</td>\n",
              "      <td>...</td>\n",
              "      <td>t</td>\n",
              "      <td>61</td>\n",
              "      <td>t</td>\n",
              "      <td>0.87</td>\n",
              "      <td>t</td>\n",
              "      <td>70</td>\n",
              "      <td>f</td>\n",
              "      <td>?</td>\n",
              "      <td>SVI</td>\n",
              "      <td>negative.|2807</td>\n",
              "    </tr>\n",
              "    <tr>\n",
              "      <th>5</th>\n",
              "      <td>18</td>\n",
              "      <td>F</td>\n",
              "      <td>t</td>\n",
              "      <td>f</td>\n",
              "      <td>f</td>\n",
              "      <td>f</td>\n",
              "      <td>f</td>\n",
              "      <td>f</td>\n",
              "      <td>f</td>\n",
              "      <td>f</td>\n",
              "      <td>...</td>\n",
              "      <td>t</td>\n",
              "      <td>183</td>\n",
              "      <td>t</td>\n",
              "      <td>1.3</td>\n",
              "      <td>t</td>\n",
              "      <td>141</td>\n",
              "      <td>f</td>\n",
              "      <td>?</td>\n",
              "      <td>other</td>\n",
              "      <td>negative.|3434</td>\n",
              "    </tr>\n",
              "    <tr>\n",
              "      <th>6</th>\n",
              "      <td>59</td>\n",
              "      <td>F</td>\n",
              "      <td>f</td>\n",
              "      <td>f</td>\n",
              "      <td>f</td>\n",
              "      <td>f</td>\n",
              "      <td>f</td>\n",
              "      <td>f</td>\n",
              "      <td>f</td>\n",
              "      <td>f</td>\n",
              "      <td>...</td>\n",
              "      <td>t</td>\n",
              "      <td>72</td>\n",
              "      <td>t</td>\n",
              "      <td>0.92</td>\n",
              "      <td>t</td>\n",
              "      <td>78</td>\n",
              "      <td>f</td>\n",
              "      <td>?</td>\n",
              "      <td>other</td>\n",
              "      <td>negative.|1595</td>\n",
              "    </tr>\n",
              "    <tr>\n",
              "      <th>7</th>\n",
              "      <td>80</td>\n",
              "      <td>F</td>\n",
              "      <td>f</td>\n",
              "      <td>f</td>\n",
              "      <td>f</td>\n",
              "      <td>f</td>\n",
              "      <td>f</td>\n",
              "      <td>f</td>\n",
              "      <td>f</td>\n",
              "      <td>f</td>\n",
              "      <td>...</td>\n",
              "      <td>t</td>\n",
              "      <td>80</td>\n",
              "      <td>t</td>\n",
              "      <td>0.7</td>\n",
              "      <td>t</td>\n",
              "      <td>115</td>\n",
              "      <td>f</td>\n",
              "      <td>?</td>\n",
              "      <td>SVI</td>\n",
              "      <td>negative.|1367</td>\n",
              "    </tr>\n",
              "    <tr>\n",
              "      <th>8</th>\n",
              "      <td>66</td>\n",
              "      <td>F</td>\n",
              "      <td>f</td>\n",
              "      <td>f</td>\n",
              "      <td>f</td>\n",
              "      <td>f</td>\n",
              "      <td>f</td>\n",
              "      <td>f</td>\n",
              "      <td>f</td>\n",
              "      <td>f</td>\n",
              "      <td>...</td>\n",
              "      <td>t</td>\n",
              "      <td>123</td>\n",
              "      <td>t</td>\n",
              "      <td>0.93</td>\n",
              "      <td>t</td>\n",
              "      <td>132</td>\n",
              "      <td>f</td>\n",
              "      <td>?</td>\n",
              "      <td>SVI</td>\n",
              "      <td>negative.|1787</td>\n",
              "    </tr>\n",
              "    <tr>\n",
              "      <th>9</th>\n",
              "      <td>68</td>\n",
              "      <td>M</td>\n",
              "      <td>f</td>\n",
              "      <td>f</td>\n",
              "      <td>f</td>\n",
              "      <td>f</td>\n",
              "      <td>f</td>\n",
              "      <td>f</td>\n",
              "      <td>f</td>\n",
              "      <td>f</td>\n",
              "      <td>...</td>\n",
              "      <td>t</td>\n",
              "      <td>83</td>\n",
              "      <td>t</td>\n",
              "      <td>0.89</td>\n",
              "      <td>t</td>\n",
              "      <td>93</td>\n",
              "      <td>f</td>\n",
              "      <td>?</td>\n",
              "      <td>SVI</td>\n",
              "      <td>negative.|2534</td>\n",
              "    </tr>\n",
              "    <tr>\n",
              "      <th>10</th>\n",
              "      <td>84</td>\n",
              "      <td>F</td>\n",
              "      <td>f</td>\n",
              "      <td>f</td>\n",
              "      <td>f</td>\n",
              "      <td>f</td>\n",
              "      <td>f</td>\n",
              "      <td>f</td>\n",
              "      <td>f</td>\n",
              "      <td>f</td>\n",
              "      <td>...</td>\n",
              "      <td>t</td>\n",
              "      <td>115</td>\n",
              "      <td>t</td>\n",
              "      <td>0.95</td>\n",
              "      <td>t</td>\n",
              "      <td>121</td>\n",
              "      <td>f</td>\n",
              "      <td>?</td>\n",
              "      <td>SVI</td>\n",
              "      <td>negative.|1485</td>\n",
              "    </tr>\n",
              "    <tr>\n",
              "      <th>11</th>\n",
              "      <td>67</td>\n",
              "      <td>F</td>\n",
              "      <td>t</td>\n",
              "      <td>f</td>\n",
              "      <td>f</td>\n",
              "      <td>f</td>\n",
              "      <td>f</td>\n",
              "      <td>f</td>\n",
              "      <td>f</td>\n",
              "      <td>f</td>\n",
              "      <td>...</td>\n",
              "      <td>t</td>\n",
              "      <td>152</td>\n",
              "      <td>t</td>\n",
              "      <td>0.99</td>\n",
              "      <td>t</td>\n",
              "      <td>153</td>\n",
              "      <td>f</td>\n",
              "      <td>?</td>\n",
              "      <td>other</td>\n",
              "      <td>negative.|3448</td>\n",
              "    </tr>\n",
              "    <tr>\n",
              "      <th>12</th>\n",
              "      <td>71</td>\n",
              "      <td>F</td>\n",
              "      <td>f</td>\n",
              "      <td>f</td>\n",
              "      <td>f</td>\n",
              "      <td>t</td>\n",
              "      <td>f</td>\n",
              "      <td>f</td>\n",
              "      <td>f</td>\n",
              "      <td>f</td>\n",
              "      <td>...</td>\n",
              "      <td>t</td>\n",
              "      <td>171</td>\n",
              "      <td>t</td>\n",
              "      <td>1.13</td>\n",
              "      <td>t</td>\n",
              "      <td>151</td>\n",
              "      <td>f</td>\n",
              "      <td>?</td>\n",
              "      <td>other</td>\n",
              "      <td>negative.|1027</td>\n",
              "    </tr>\n",
              "    <tr>\n",
              "      <th>13</th>\n",
              "      <td>59</td>\n",
              "      <td>F</td>\n",
              "      <td>f</td>\n",
              "      <td>f</td>\n",
              "      <td>f</td>\n",
              "      <td>f</td>\n",
              "      <td>f</td>\n",
              "      <td>f</td>\n",
              "      <td>f</td>\n",
              "      <td>f</td>\n",
              "      <td>...</td>\n",
              "      <td>t</td>\n",
              "      <td>97</td>\n",
              "      <td>t</td>\n",
              "      <td>0.91</td>\n",
              "      <td>t</td>\n",
              "      <td>107</td>\n",
              "      <td>f</td>\n",
              "      <td>?</td>\n",
              "      <td>SVI</td>\n",
              "      <td>negative.|3331</td>\n",
              "    </tr>\n",
              "    <tr>\n",
              "      <th>14</th>\n",
              "      <td>28</td>\n",
              "      <td>M</td>\n",
              "      <td>f</td>\n",
              "      <td>f</td>\n",
              "      <td>f</td>\n",
              "      <td>f</td>\n",
              "      <td>f</td>\n",
              "      <td>f</td>\n",
              "      <td>f</td>\n",
              "      <td>f</td>\n",
              "      <td>...</td>\n",
              "      <td>t</td>\n",
              "      <td>109</td>\n",
              "      <td>t</td>\n",
              "      <td>0.91</td>\n",
              "      <td>t</td>\n",
              "      <td>119</td>\n",
              "      <td>f</td>\n",
              "      <td>?</td>\n",
              "      <td>SVHC</td>\n",
              "      <td>negative.|2043</td>\n",
              "    </tr>\n",
              "    <tr>\n",
              "      <th>15</th>\n",
              "      <td>65</td>\n",
              "      <td>F</td>\n",
              "      <td>f</td>\n",
              "      <td>f</td>\n",
              "      <td>f</td>\n",
              "      <td>f</td>\n",
              "      <td>f</td>\n",
              "      <td>f</td>\n",
              "      <td>f</td>\n",
              "      <td>t</td>\n",
              "      <td>...</td>\n",
              "      <td>t</td>\n",
              "      <td>99</td>\n",
              "      <td>t</td>\n",
              "      <td>1.14</td>\n",
              "      <td>t</td>\n",
              "      <td>87</td>\n",
              "      <td>f</td>\n",
              "      <td>?</td>\n",
              "      <td>other</td>\n",
              "      <td>compensated hypothyroid.|3169</td>\n",
              "    </tr>\n",
              "    <tr>\n",
              "      <th>16</th>\n",
              "      <td>42</td>\n",
              "      <td>?</td>\n",
              "      <td>f</td>\n",
              "      <td>f</td>\n",
              "      <td>f</td>\n",
              "      <td>f</td>\n",
              "      <td>f</td>\n",
              "      <td>f</td>\n",
              "      <td>f</td>\n",
              "      <td>f</td>\n",
              "      <td>...</td>\n",
              "      <td>t</td>\n",
              "      <td>70</td>\n",
              "      <td>t</td>\n",
              "      <td>0.86</td>\n",
              "      <td>t</td>\n",
              "      <td>81</td>\n",
              "      <td>f</td>\n",
              "      <td>?</td>\n",
              "      <td>other</td>\n",
              "      <td>negative.|2755</td>\n",
              "    </tr>\n",
              "    <tr>\n",
              "      <th>17</th>\n",
              "      <td>63</td>\n",
              "      <td>F</td>\n",
              "      <td>f</td>\n",
              "      <td>f</td>\n",
              "      <td>f</td>\n",
              "      <td>f</td>\n",
              "      <td>f</td>\n",
              "      <td>f</td>\n",
              "      <td>f</td>\n",
              "      <td>f</td>\n",
              "      <td>...</td>\n",
              "      <td>t</td>\n",
              "      <td>117</td>\n",
              "      <td>t</td>\n",
              "      <td>0.96</td>\n",
              "      <td>t</td>\n",
              "      <td>121</td>\n",
              "      <td>f</td>\n",
              "      <td>?</td>\n",
              "      <td>SVI</td>\n",
              "      <td>negative.|1010</td>\n",
              "    </tr>\n",
              "    <tr>\n",
              "      <th>18</th>\n",
              "      <td>80</td>\n",
              "      <td>F</td>\n",
              "      <td>f</td>\n",
              "      <td>f</td>\n",
              "      <td>f</td>\n",
              "      <td>f</td>\n",
              "      <td>f</td>\n",
              "      <td>f</td>\n",
              "      <td>f</td>\n",
              "      <td>f</td>\n",
              "      <td>...</td>\n",
              "      <td>t</td>\n",
              "      <td>99</td>\n",
              "      <td>t</td>\n",
              "      <td>0.95</td>\n",
              "      <td>t</td>\n",
              "      <td>104</td>\n",
              "      <td>f</td>\n",
              "      <td>?</td>\n",
              "      <td>SVI</td>\n",
              "      <td>negative.|803</td>\n",
              "    </tr>\n",
              "    <tr>\n",
              "      <th>19</th>\n",
              "      <td>28</td>\n",
              "      <td>M</td>\n",
              "      <td>f</td>\n",
              "      <td>f</td>\n",
              "      <td>f</td>\n",
              "      <td>f</td>\n",
              "      <td>f</td>\n",
              "      <td>f</td>\n",
              "      <td>f</td>\n",
              "      <td>f</td>\n",
              "      <td>...</td>\n",
              "      <td>t</td>\n",
              "      <td>121</td>\n",
              "      <td>t</td>\n",
              "      <td>0.94</td>\n",
              "      <td>t</td>\n",
              "      <td>130</td>\n",
              "      <td>f</td>\n",
              "      <td>?</td>\n",
              "      <td>SVHC</td>\n",
              "      <td>negative.|2297</td>\n",
              "    </tr>\n",
              "  </tbody>\n",
              "</table>\n",
              "<p>20 rows × 30 columns</p>\n",
              "</div>\n",
              "    <div class=\"colab-df-buttons\">\n",
              "\n",
              "  <div class=\"colab-df-container\">\n",
              "    <button class=\"colab-df-convert\" onclick=\"convertToInteractive('df-5c5624e2-24c2-4915-aeeb-d2a9548b3826')\"\n",
              "            title=\"Convert this dataframe to an interactive table.\"\n",
              "            style=\"display:none;\">\n",
              "\n",
              "  <svg xmlns=\"http://www.w3.org/2000/svg\" height=\"24px\" viewBox=\"0 -960 960 960\">\n",
              "    <path d=\"M120-120v-720h720v720H120Zm60-500h600v-160H180v160Zm220 220h160v-160H400v160Zm0 220h160v-160H400v160ZM180-400h160v-160H180v160Zm440 0h160v-160H620v160ZM180-180h160v-160H180v160Zm440 0h160v-160H620v160Z\"/>\n",
              "  </svg>\n",
              "    </button>\n",
              "\n",
              "  <style>\n",
              "    .colab-df-container {\n",
              "      display:flex;\n",
              "      gap: 12px;\n",
              "    }\n",
              "\n",
              "    .colab-df-convert {\n",
              "      background-color: #E8F0FE;\n",
              "      border: none;\n",
              "      border-radius: 50%;\n",
              "      cursor: pointer;\n",
              "      display: none;\n",
              "      fill: #1967D2;\n",
              "      height: 32px;\n",
              "      padding: 0 0 0 0;\n",
              "      width: 32px;\n",
              "    }\n",
              "\n",
              "    .colab-df-convert:hover {\n",
              "      background-color: #E2EBFA;\n",
              "      box-shadow: 0px 1px 2px rgba(60, 64, 67, 0.3), 0px 1px 3px 1px rgba(60, 64, 67, 0.15);\n",
              "      fill: #174EA6;\n",
              "    }\n",
              "\n",
              "    .colab-df-buttons div {\n",
              "      margin-bottom: 4px;\n",
              "    }\n",
              "\n",
              "    [theme=dark] .colab-df-convert {\n",
              "      background-color: #3B4455;\n",
              "      fill: #D2E3FC;\n",
              "    }\n",
              "\n",
              "    [theme=dark] .colab-df-convert:hover {\n",
              "      background-color: #434B5C;\n",
              "      box-shadow: 0px 1px 3px 1px rgba(0, 0, 0, 0.15);\n",
              "      filter: drop-shadow(0px 1px 2px rgba(0, 0, 0, 0.3));\n",
              "      fill: #FFFFFF;\n",
              "    }\n",
              "  </style>\n",
              "\n",
              "    <script>\n",
              "      const buttonEl =\n",
              "        document.querySelector('#df-5c5624e2-24c2-4915-aeeb-d2a9548b3826 button.colab-df-convert');\n",
              "      buttonEl.style.display =\n",
              "        google.colab.kernel.accessAllowed ? 'block' : 'none';\n",
              "\n",
              "      async function convertToInteractive(key) {\n",
              "        const element = document.querySelector('#df-5c5624e2-24c2-4915-aeeb-d2a9548b3826');\n",
              "        const dataTable =\n",
              "          await google.colab.kernel.invokeFunction('convertToInteractive',\n",
              "                                                    [key], {});\n",
              "        if (!dataTable) return;\n",
              "\n",
              "        const docLinkHtml = 'Like what you see? Visit the ' +\n",
              "          '<a target=\"_blank\" href=https://colab.research.google.com/notebooks/data_table.ipynb>data table notebook</a>'\n",
              "          + ' to learn more about interactive tables.';\n",
              "        element.innerHTML = '';\n",
              "        dataTable['output_type'] = 'display_data';\n",
              "        await google.colab.output.renderOutput(dataTable, element);\n",
              "        const docLink = document.createElement('div');\n",
              "        docLink.innerHTML = docLinkHtml;\n",
              "        element.appendChild(docLink);\n",
              "      }\n",
              "    </script>\n",
              "  </div>\n",
              "\n",
              "\n",
              "    <div id=\"df-1ab14c20-4220-4bd6-8992-be9c6f7eb1c5\">\n",
              "      <button class=\"colab-df-quickchart\" onclick=\"quickchart('df-1ab14c20-4220-4bd6-8992-be9c6f7eb1c5')\"\n",
              "                title=\"Suggest charts\"\n",
              "                style=\"display:none;\">\n",
              "\n",
              "<svg xmlns=\"http://www.w3.org/2000/svg\" height=\"24px\"viewBox=\"0 0 24 24\"\n",
              "     width=\"24px\">\n",
              "    <g>\n",
              "        <path d=\"M19 3H5c-1.1 0-2 .9-2 2v14c0 1.1.9 2 2 2h14c1.1 0 2-.9 2-2V5c0-1.1-.9-2-2-2zM9 17H7v-7h2v7zm4 0h-2V7h2v10zm4 0h-2v-4h2v4z\"/>\n",
              "    </g>\n",
              "</svg>\n",
              "      </button>\n",
              "\n",
              "<style>\n",
              "  .colab-df-quickchart {\n",
              "      --bg-color: #E8F0FE;\n",
              "      --fill-color: #1967D2;\n",
              "      --hover-bg-color: #E2EBFA;\n",
              "      --hover-fill-color: #174EA6;\n",
              "      --disabled-fill-color: #AAA;\n",
              "      --disabled-bg-color: #DDD;\n",
              "  }\n",
              "\n",
              "  [theme=dark] .colab-df-quickchart {\n",
              "      --bg-color: #3B4455;\n",
              "      --fill-color: #D2E3FC;\n",
              "      --hover-bg-color: #434B5C;\n",
              "      --hover-fill-color: #FFFFFF;\n",
              "      --disabled-bg-color: #3B4455;\n",
              "      --disabled-fill-color: #666;\n",
              "  }\n",
              "\n",
              "  .colab-df-quickchart {\n",
              "    background-color: var(--bg-color);\n",
              "    border: none;\n",
              "    border-radius: 50%;\n",
              "    cursor: pointer;\n",
              "    display: none;\n",
              "    fill: var(--fill-color);\n",
              "    height: 32px;\n",
              "    padding: 0;\n",
              "    width: 32px;\n",
              "  }\n",
              "\n",
              "  .colab-df-quickchart:hover {\n",
              "    background-color: var(--hover-bg-color);\n",
              "    box-shadow: 0 1px 2px rgba(60, 64, 67, 0.3), 0 1px 3px 1px rgba(60, 64, 67, 0.15);\n",
              "    fill: var(--button-hover-fill-color);\n",
              "  }\n",
              "\n",
              "  .colab-df-quickchart-complete:disabled,\n",
              "  .colab-df-quickchart-complete:disabled:hover {\n",
              "    background-color: var(--disabled-bg-color);\n",
              "    fill: var(--disabled-fill-color);\n",
              "    box-shadow: none;\n",
              "  }\n",
              "\n",
              "  .colab-df-spinner {\n",
              "    border: 2px solid var(--fill-color);\n",
              "    border-color: transparent;\n",
              "    border-bottom-color: var(--fill-color);\n",
              "    animation:\n",
              "      spin 1s steps(1) infinite;\n",
              "  }\n",
              "\n",
              "  @keyframes spin {\n",
              "    0% {\n",
              "      border-color: transparent;\n",
              "      border-bottom-color: var(--fill-color);\n",
              "      border-left-color: var(--fill-color);\n",
              "    }\n",
              "    20% {\n",
              "      border-color: transparent;\n",
              "      border-left-color: var(--fill-color);\n",
              "      border-top-color: var(--fill-color);\n",
              "    }\n",
              "    30% {\n",
              "      border-color: transparent;\n",
              "      border-left-color: var(--fill-color);\n",
              "      border-top-color: var(--fill-color);\n",
              "      border-right-color: var(--fill-color);\n",
              "    }\n",
              "    40% {\n",
              "      border-color: transparent;\n",
              "      border-right-color: var(--fill-color);\n",
              "      border-top-color: var(--fill-color);\n",
              "    }\n",
              "    60% {\n",
              "      border-color: transparent;\n",
              "      border-right-color: var(--fill-color);\n",
              "    }\n",
              "    80% {\n",
              "      border-color: transparent;\n",
              "      border-right-color: var(--fill-color);\n",
              "      border-bottom-color: var(--fill-color);\n",
              "    }\n",
              "    90% {\n",
              "      border-color: transparent;\n",
              "      border-bottom-color: var(--fill-color);\n",
              "    }\n",
              "  }\n",
              "</style>\n",
              "\n",
              "      <script>\n",
              "        async function quickchart(key) {\n",
              "          const quickchartButtonEl =\n",
              "            document.querySelector('#' + key + ' button');\n",
              "          quickchartButtonEl.disabled = true;  // To prevent multiple clicks.\n",
              "          quickchartButtonEl.classList.add('colab-df-spinner');\n",
              "          try {\n",
              "            const charts = await google.colab.kernel.invokeFunction(\n",
              "                'suggestCharts', [key], {});\n",
              "          } catch (error) {\n",
              "            console.error('Error during call to suggestCharts:', error);\n",
              "          }\n",
              "          quickchartButtonEl.classList.remove('colab-df-spinner');\n",
              "          quickchartButtonEl.classList.add('colab-df-quickchart-complete');\n",
              "        }\n",
              "        (() => {\n",
              "          let quickchartButtonEl =\n",
              "            document.querySelector('#df-1ab14c20-4220-4bd6-8992-be9c6f7eb1c5 button');\n",
              "          quickchartButtonEl.style.display =\n",
              "            google.colab.kernel.accessAllowed ? 'block' : 'none';\n",
              "        })();\n",
              "      </script>\n",
              "    </div>\n",
              "\n",
              "    </div>\n",
              "  </div>\n"
            ],
            "application/vnd.google.colaboratory.intrinsic+json": {
              "type": "dataframe",
              "variable_name": "data"
            }
          },
          "metadata": {},
          "execution_count": 1
        }
      ],
      "source": [
        "import pandas as pd\n",
        "### Your code here\n",
        "data_url = \"https://raw.githubusercontent.com/MedlyticsUniversal/Data/main/Week1/allhypo.train.csv\"\n",
        "\n",
        "data = pd.read_csv(data_url)\n",
        "\n",
        "data.head(20)\n",
        "\n"
      ]
    },
    {
      "cell_type": "markdown",
      "metadata": {
        "id": "tYhtoqdR6Y3J"
      },
      "source": [
        "Great, looks like the data loaded in properly. Let's continue looking at some summary statistics on our data."
      ]
    },
    {
      "cell_type": "markdown",
      "metadata": {
        "id": "sGKbG-eBqBjF"
      },
      "source": [
        "## Viewing summary statistics\n",
        "The functions describe() and info() are your friends"
      ]
    },
    {
      "cell_type": "code",
      "execution_count": null,
      "metadata": {
        "colab": {
          "base_uri": "https://localhost:8080/",
          "height": 258
        },
        "id": "rnp3nN9b6ZNw",
        "outputId": "b0d61413-9a36-4a87-a3f9-b19f0a3072cd"
      },
      "outputs": [
        {
          "output_type": "execute_result",
          "data": {
            "text/plain": [
              "         Age   Sex On Thyroxine Query on Thyroxine On Antithyroid Medication  \\\n",
              "count   2800  2800         2800               2800                      2800   \n",
              "unique    94     3            2                  2                         2   \n",
              "top       59     F            f                  f                         f   \n",
              "freq      75  1830         2470               2760                      2766   \n",
              "\n",
              "        Sick Pregnant Thyroid Surgery I131 Treatment Query Hypothyroid  ...  \\\n",
              "count   2800     2800            2800           2800              2800  ...   \n",
              "unique     2        2               2              2                 2  ...   \n",
              "top        f        f               f              f                 f  ...   \n",
              "freq    2690     2759            2761           2752              2637  ...   \n",
              "\n",
              "       TT4 Measured   TT4 T4U Measured   T4U FTI Measured   FTI TBG Measured  \\\n",
              "count          2800  2800         2800  2800         2800  2800         2800   \n",
              "unique            2   218            2   139            2   210            1   \n",
              "top               t     ?            t     ?            t     ?            f   \n",
              "freq           2616   184         2503   297         2505   295         2800   \n",
              "\n",
              "         TBG Referral Source           Class  \n",
              "count   2800            2800            2800  \n",
              "unique     1               5            2800  \n",
              "top        ?           other  negative.|2985  \n",
              "freq    2800            1632               1  \n",
              "\n",
              "[4 rows x 30 columns]"
            ],
            "text/html": [
              "\n",
              "  <div id=\"df-707206d7-9f4a-4f9f-a467-d6c6e554de76\" class=\"colab-df-container\">\n",
              "    <div>\n",
              "<style scoped>\n",
              "    .dataframe tbody tr th:only-of-type {\n",
              "        vertical-align: middle;\n",
              "    }\n",
              "\n",
              "    .dataframe tbody tr th {\n",
              "        vertical-align: top;\n",
              "    }\n",
              "\n",
              "    .dataframe thead th {\n",
              "        text-align: right;\n",
              "    }\n",
              "</style>\n",
              "<table border=\"1\" class=\"dataframe\">\n",
              "  <thead>\n",
              "    <tr style=\"text-align: right;\">\n",
              "      <th></th>\n",
              "      <th>Age</th>\n",
              "      <th>Sex</th>\n",
              "      <th>On Thyroxine</th>\n",
              "      <th>Query on Thyroxine</th>\n",
              "      <th>On Antithyroid Medication</th>\n",
              "      <th>Sick</th>\n",
              "      <th>Pregnant</th>\n",
              "      <th>Thyroid Surgery</th>\n",
              "      <th>I131 Treatment</th>\n",
              "      <th>Query Hypothyroid</th>\n",
              "      <th>...</th>\n",
              "      <th>TT4 Measured</th>\n",
              "      <th>TT4</th>\n",
              "      <th>T4U Measured</th>\n",
              "      <th>T4U</th>\n",
              "      <th>FTI Measured</th>\n",
              "      <th>FTI</th>\n",
              "      <th>TBG Measured</th>\n",
              "      <th>TBG</th>\n",
              "      <th>Referral Source</th>\n",
              "      <th>Class</th>\n",
              "    </tr>\n",
              "  </thead>\n",
              "  <tbody>\n",
              "    <tr>\n",
              "      <th>count</th>\n",
              "      <td>2800</td>\n",
              "      <td>2800</td>\n",
              "      <td>2800</td>\n",
              "      <td>2800</td>\n",
              "      <td>2800</td>\n",
              "      <td>2800</td>\n",
              "      <td>2800</td>\n",
              "      <td>2800</td>\n",
              "      <td>2800</td>\n",
              "      <td>2800</td>\n",
              "      <td>...</td>\n",
              "      <td>2800</td>\n",
              "      <td>2800</td>\n",
              "      <td>2800</td>\n",
              "      <td>2800</td>\n",
              "      <td>2800</td>\n",
              "      <td>2800</td>\n",
              "      <td>2800</td>\n",
              "      <td>2800</td>\n",
              "      <td>2800</td>\n",
              "      <td>2800</td>\n",
              "    </tr>\n",
              "    <tr>\n",
              "      <th>unique</th>\n",
              "      <td>94</td>\n",
              "      <td>3</td>\n",
              "      <td>2</td>\n",
              "      <td>2</td>\n",
              "      <td>2</td>\n",
              "      <td>2</td>\n",
              "      <td>2</td>\n",
              "      <td>2</td>\n",
              "      <td>2</td>\n",
              "      <td>2</td>\n",
              "      <td>...</td>\n",
              "      <td>2</td>\n",
              "      <td>218</td>\n",
              "      <td>2</td>\n",
              "      <td>139</td>\n",
              "      <td>2</td>\n",
              "      <td>210</td>\n",
              "      <td>1</td>\n",
              "      <td>1</td>\n",
              "      <td>5</td>\n",
              "      <td>2800</td>\n",
              "    </tr>\n",
              "    <tr>\n",
              "      <th>top</th>\n",
              "      <td>59</td>\n",
              "      <td>F</td>\n",
              "      <td>f</td>\n",
              "      <td>f</td>\n",
              "      <td>f</td>\n",
              "      <td>f</td>\n",
              "      <td>f</td>\n",
              "      <td>f</td>\n",
              "      <td>f</td>\n",
              "      <td>f</td>\n",
              "      <td>...</td>\n",
              "      <td>t</td>\n",
              "      <td>?</td>\n",
              "      <td>t</td>\n",
              "      <td>?</td>\n",
              "      <td>t</td>\n",
              "      <td>?</td>\n",
              "      <td>f</td>\n",
              "      <td>?</td>\n",
              "      <td>other</td>\n",
              "      <td>negative.|2985</td>\n",
              "    </tr>\n",
              "    <tr>\n",
              "      <th>freq</th>\n",
              "      <td>75</td>\n",
              "      <td>1830</td>\n",
              "      <td>2470</td>\n",
              "      <td>2760</td>\n",
              "      <td>2766</td>\n",
              "      <td>2690</td>\n",
              "      <td>2759</td>\n",
              "      <td>2761</td>\n",
              "      <td>2752</td>\n",
              "      <td>2637</td>\n",
              "      <td>...</td>\n",
              "      <td>2616</td>\n",
              "      <td>184</td>\n",
              "      <td>2503</td>\n",
              "      <td>297</td>\n",
              "      <td>2505</td>\n",
              "      <td>295</td>\n",
              "      <td>2800</td>\n",
              "      <td>2800</td>\n",
              "      <td>1632</td>\n",
              "      <td>1</td>\n",
              "    </tr>\n",
              "  </tbody>\n",
              "</table>\n",
              "<p>4 rows × 30 columns</p>\n",
              "</div>\n",
              "    <div class=\"colab-df-buttons\">\n",
              "\n",
              "  <div class=\"colab-df-container\">\n",
              "    <button class=\"colab-df-convert\" onclick=\"convertToInteractive('df-707206d7-9f4a-4f9f-a467-d6c6e554de76')\"\n",
              "            title=\"Convert this dataframe to an interactive table.\"\n",
              "            style=\"display:none;\">\n",
              "\n",
              "  <svg xmlns=\"http://www.w3.org/2000/svg\" height=\"24px\" viewBox=\"0 -960 960 960\">\n",
              "    <path d=\"M120-120v-720h720v720H120Zm60-500h600v-160H180v160Zm220 220h160v-160H400v160Zm0 220h160v-160H400v160ZM180-400h160v-160H180v160Zm440 0h160v-160H620v160ZM180-180h160v-160H180v160Zm440 0h160v-160H620v160Z\"/>\n",
              "  </svg>\n",
              "    </button>\n",
              "\n",
              "  <style>\n",
              "    .colab-df-container {\n",
              "      display:flex;\n",
              "      gap: 12px;\n",
              "    }\n",
              "\n",
              "    .colab-df-convert {\n",
              "      background-color: #E8F0FE;\n",
              "      border: none;\n",
              "      border-radius: 50%;\n",
              "      cursor: pointer;\n",
              "      display: none;\n",
              "      fill: #1967D2;\n",
              "      height: 32px;\n",
              "      padding: 0 0 0 0;\n",
              "      width: 32px;\n",
              "    }\n",
              "\n",
              "    .colab-df-convert:hover {\n",
              "      background-color: #E2EBFA;\n",
              "      box-shadow: 0px 1px 2px rgba(60, 64, 67, 0.3), 0px 1px 3px 1px rgba(60, 64, 67, 0.15);\n",
              "      fill: #174EA6;\n",
              "    }\n",
              "\n",
              "    .colab-df-buttons div {\n",
              "      margin-bottom: 4px;\n",
              "    }\n",
              "\n",
              "    [theme=dark] .colab-df-convert {\n",
              "      background-color: #3B4455;\n",
              "      fill: #D2E3FC;\n",
              "    }\n",
              "\n",
              "    [theme=dark] .colab-df-convert:hover {\n",
              "      background-color: #434B5C;\n",
              "      box-shadow: 0px 1px 3px 1px rgba(0, 0, 0, 0.15);\n",
              "      filter: drop-shadow(0px 1px 2px rgba(0, 0, 0, 0.3));\n",
              "      fill: #FFFFFF;\n",
              "    }\n",
              "  </style>\n",
              "\n",
              "    <script>\n",
              "      const buttonEl =\n",
              "        document.querySelector('#df-707206d7-9f4a-4f9f-a467-d6c6e554de76 button.colab-df-convert');\n",
              "      buttonEl.style.display =\n",
              "        google.colab.kernel.accessAllowed ? 'block' : 'none';\n",
              "\n",
              "      async function convertToInteractive(key) {\n",
              "        const element = document.querySelector('#df-707206d7-9f4a-4f9f-a467-d6c6e554de76');\n",
              "        const dataTable =\n",
              "          await google.colab.kernel.invokeFunction('convertToInteractive',\n",
              "                                                    [key], {});\n",
              "        if (!dataTable) return;\n",
              "\n",
              "        const docLinkHtml = 'Like what you see? Visit the ' +\n",
              "          '<a target=\"_blank\" href=https://colab.research.google.com/notebooks/data_table.ipynb>data table notebook</a>'\n",
              "          + ' to learn more about interactive tables.';\n",
              "        element.innerHTML = '';\n",
              "        dataTable['output_type'] = 'display_data';\n",
              "        await google.colab.output.renderOutput(dataTable, element);\n",
              "        const docLink = document.createElement('div');\n",
              "        docLink.innerHTML = docLinkHtml;\n",
              "        element.appendChild(docLink);\n",
              "      }\n",
              "    </script>\n",
              "  </div>\n",
              "\n",
              "\n",
              "    <div id=\"df-9b081cdb-36a6-4749-a577-1346da30e0ba\">\n",
              "      <button class=\"colab-df-quickchart\" onclick=\"quickchart('df-9b081cdb-36a6-4749-a577-1346da30e0ba')\"\n",
              "                title=\"Suggest charts\"\n",
              "                style=\"display:none;\">\n",
              "\n",
              "<svg xmlns=\"http://www.w3.org/2000/svg\" height=\"24px\"viewBox=\"0 0 24 24\"\n",
              "     width=\"24px\">\n",
              "    <g>\n",
              "        <path d=\"M19 3H5c-1.1 0-2 .9-2 2v14c0 1.1.9 2 2 2h14c1.1 0 2-.9 2-2V5c0-1.1-.9-2-2-2zM9 17H7v-7h2v7zm4 0h-2V7h2v10zm4 0h-2v-4h2v4z\"/>\n",
              "    </g>\n",
              "</svg>\n",
              "      </button>\n",
              "\n",
              "<style>\n",
              "  .colab-df-quickchart {\n",
              "      --bg-color: #E8F0FE;\n",
              "      --fill-color: #1967D2;\n",
              "      --hover-bg-color: #E2EBFA;\n",
              "      --hover-fill-color: #174EA6;\n",
              "      --disabled-fill-color: #AAA;\n",
              "      --disabled-bg-color: #DDD;\n",
              "  }\n",
              "\n",
              "  [theme=dark] .colab-df-quickchart {\n",
              "      --bg-color: #3B4455;\n",
              "      --fill-color: #D2E3FC;\n",
              "      --hover-bg-color: #434B5C;\n",
              "      --hover-fill-color: #FFFFFF;\n",
              "      --disabled-bg-color: #3B4455;\n",
              "      --disabled-fill-color: #666;\n",
              "  }\n",
              "\n",
              "  .colab-df-quickchart {\n",
              "    background-color: var(--bg-color);\n",
              "    border: none;\n",
              "    border-radius: 50%;\n",
              "    cursor: pointer;\n",
              "    display: none;\n",
              "    fill: var(--fill-color);\n",
              "    height: 32px;\n",
              "    padding: 0;\n",
              "    width: 32px;\n",
              "  }\n",
              "\n",
              "  .colab-df-quickchart:hover {\n",
              "    background-color: var(--hover-bg-color);\n",
              "    box-shadow: 0 1px 2px rgba(60, 64, 67, 0.3), 0 1px 3px 1px rgba(60, 64, 67, 0.15);\n",
              "    fill: var(--button-hover-fill-color);\n",
              "  }\n",
              "\n",
              "  .colab-df-quickchart-complete:disabled,\n",
              "  .colab-df-quickchart-complete:disabled:hover {\n",
              "    background-color: var(--disabled-bg-color);\n",
              "    fill: var(--disabled-fill-color);\n",
              "    box-shadow: none;\n",
              "  }\n",
              "\n",
              "  .colab-df-spinner {\n",
              "    border: 2px solid var(--fill-color);\n",
              "    border-color: transparent;\n",
              "    border-bottom-color: var(--fill-color);\n",
              "    animation:\n",
              "      spin 1s steps(1) infinite;\n",
              "  }\n",
              "\n",
              "  @keyframes spin {\n",
              "    0% {\n",
              "      border-color: transparent;\n",
              "      border-bottom-color: var(--fill-color);\n",
              "      border-left-color: var(--fill-color);\n",
              "    }\n",
              "    20% {\n",
              "      border-color: transparent;\n",
              "      border-left-color: var(--fill-color);\n",
              "      border-top-color: var(--fill-color);\n",
              "    }\n",
              "    30% {\n",
              "      border-color: transparent;\n",
              "      border-left-color: var(--fill-color);\n",
              "      border-top-color: var(--fill-color);\n",
              "      border-right-color: var(--fill-color);\n",
              "    }\n",
              "    40% {\n",
              "      border-color: transparent;\n",
              "      border-right-color: var(--fill-color);\n",
              "      border-top-color: var(--fill-color);\n",
              "    }\n",
              "    60% {\n",
              "      border-color: transparent;\n",
              "      border-right-color: var(--fill-color);\n",
              "    }\n",
              "    80% {\n",
              "      border-color: transparent;\n",
              "      border-right-color: var(--fill-color);\n",
              "      border-bottom-color: var(--fill-color);\n",
              "    }\n",
              "    90% {\n",
              "      border-color: transparent;\n",
              "      border-bottom-color: var(--fill-color);\n",
              "    }\n",
              "  }\n",
              "</style>\n",
              "\n",
              "      <script>\n",
              "        async function quickchart(key) {\n",
              "          const quickchartButtonEl =\n",
              "            document.querySelector('#' + key + ' button');\n",
              "          quickchartButtonEl.disabled = true;  // To prevent multiple clicks.\n",
              "          quickchartButtonEl.classList.add('colab-df-spinner');\n",
              "          try {\n",
              "            const charts = await google.colab.kernel.invokeFunction(\n",
              "                'suggestCharts', [key], {});\n",
              "          } catch (error) {\n",
              "            console.error('Error during call to suggestCharts:', error);\n",
              "          }\n",
              "          quickchartButtonEl.classList.remove('colab-df-spinner');\n",
              "          quickchartButtonEl.classList.add('colab-df-quickchart-complete');\n",
              "        }\n",
              "        (() => {\n",
              "          let quickchartButtonEl =\n",
              "            document.querySelector('#df-9b081cdb-36a6-4749-a577-1346da30e0ba button');\n",
              "          quickchartButtonEl.style.display =\n",
              "            google.colab.kernel.accessAllowed ? 'block' : 'none';\n",
              "        })();\n",
              "      </script>\n",
              "    </div>\n",
              "\n",
              "    </div>\n",
              "  </div>\n"
            ],
            "application/vnd.google.colaboratory.intrinsic+json": {
              "type": "dataframe"
            }
          },
          "metadata": {},
          "execution_count": 2
        }
      ],
      "source": [
        "data.describe()"
      ]
    },
    {
      "cell_type": "code",
      "execution_count": null,
      "metadata": {
        "colab": {
          "base_uri": "https://localhost:8080/"
        },
        "id": "9QndSspU7lW4",
        "outputId": "95b975cc-1da5-444d-d446-df01a932bd37"
      },
      "outputs": [
        {
          "output_type": "stream",
          "name": "stdout",
          "text": [
            "<class 'pandas.core.frame.DataFrame'>\n",
            "RangeIndex: 2800 entries, 0 to 2799\n",
            "Data columns (total 30 columns):\n",
            " #   Column                     Non-Null Count  Dtype \n",
            "---  ------                     --------------  ----- \n",
            " 0   Age                        2800 non-null   object\n",
            " 1   Sex                        2800 non-null   object\n",
            " 2   On Thyroxine               2800 non-null   object\n",
            " 3   Query on Thyroxine         2800 non-null   object\n",
            " 4   On Antithyroid Medication  2800 non-null   object\n",
            " 5   Sick                       2800 non-null   object\n",
            " 6   Pregnant                   2800 non-null   object\n",
            " 7   Thyroid Surgery            2800 non-null   object\n",
            " 8   I131 Treatment             2800 non-null   object\n",
            " 9   Query Hypothyroid          2800 non-null   object\n",
            " 10  Query Hyperthyroid         2800 non-null   object\n",
            " 11  Lithium                    2800 non-null   object\n",
            " 12  Goiter                     2800 non-null   object\n",
            " 13  Tumor                      2800 non-null   object\n",
            " 14  Hypopituitary              2800 non-null   object\n",
            " 15  Psych                      2800 non-null   object\n",
            " 16  TSH Measured               2800 non-null   object\n",
            " 17  TSH                        2800 non-null   object\n",
            " 18  T3 Measured                2800 non-null   object\n",
            " 19  T3                         2800 non-null   object\n",
            " 20  TT4 Measured               2800 non-null   object\n",
            " 21  TT4                        2800 non-null   object\n",
            " 22  T4U Measured               2800 non-null   object\n",
            " 23  T4U                        2800 non-null   object\n",
            " 24  FTI Measured               2800 non-null   object\n",
            " 25  FTI                        2800 non-null   object\n",
            " 26  TBG Measured               2800 non-null   object\n",
            " 27  TBG                        2800 non-null   object\n",
            " 28  Referral Source            2800 non-null   object\n",
            " 29  Class                      2800 non-null   object\n",
            "dtypes: object(30)\n",
            "memory usage: 656.4+ KB\n"
          ]
        }
      ],
      "source": [
        "data.info()"
      ]
    },
    {
      "cell_type": "markdown",
      "metadata": {
        "id": "olpFokrp8AIH"
      },
      "source": [
        "Note the data types are all objects--even columns that are obviously numeric like Age.\n"
      ]
    },
    {
      "cell_type": "markdown",
      "metadata": {
        "id": "0emOppVyqQS9"
      },
      "source": [
        "## Data cleaning"
      ]
    },
    {
      "cell_type": "markdown",
      "metadata": {
        "id": "ZRQpnByEWrcx"
      },
      "source": [
        "To start, let's make all the numerical columns contain the correct type of values and change the data type of those columns to numeric. Let's also replace all those question marks with the median of the respective column.\n",
        "\n",
        "Hint: To make it easier, first try converting all the \"?\" to NaN."
      ]
    },
    {
      "cell_type": "code",
      "execution_count": null,
      "metadata": {
        "colab": {
          "base_uri": "https://localhost:8080/",
          "height": 441
        },
        "id": "VLdy-ySCvlY6",
        "outputId": "830cc702-cb88-4ef1-dfac-d7e57c10f63d"
      },
      "outputs": [
        {
          "output_type": "execute_result",
          "data": {
            "text/plain": [
              "     Age Sex On Thyroxine Query on Thyroxine On Antithyroid Medication Sick  \\\n",
              "0     41   F            f                  f                         f    f   \n",
              "1     23   F            f                  f                         f    f   \n",
              "2     46   M            f                  f                         f    f   \n",
              "3     70   F            t                  f                         f    f   \n",
              "4     70   F            f                  f                         f    f   \n",
              "...   ..  ..          ...                ...                       ...  ...   \n",
              "2795  70   M            f                  f                         f    f   \n",
              "2796  73   M            f                  t                         f    f   \n",
              "2797  75   M            f                  f                         f    f   \n",
              "2798  60   F            f                  f                         f    f   \n",
              "2799  81   F            f                  f                         f    f   \n",
              "\n",
              "     Pregnant Thyroid Surgery I131 Treatment Query Hypothyroid  ...  \\\n",
              "0           f               f              f                 f  ...   \n",
              "1           f               f              f                 f  ...   \n",
              "2           f               f              f                 f  ...   \n",
              "3           f               f              f                 f  ...   \n",
              "4           f               f              f                 f  ...   \n",
              "...       ...             ...            ...               ...  ...   \n",
              "2795        f               f              f                 f  ...   \n",
              "2796        f               f              f                 f  ...   \n",
              "2797        f               f              f                 f  ...   \n",
              "2798        f               f              f                 f  ...   \n",
              "2799        f               f              f                 f  ...   \n",
              "\n",
              "     TT4 Measured  TT4 T4U Measured   T4U FTI Measured  FTI TBG Measured TBG  \\\n",
              "0               t  125            t  1.14            t  109            f   ?   \n",
              "1               t  102            f     ?            f    ?            f   ?   \n",
              "2               t  109            t  0.91            t  120            f   ?   \n",
              "3               t  175            f     ?            f    ?            f   ?   \n",
              "4               t   61            t  0.87            t   70            f   ?   \n",
              "...           ...  ...          ...   ...          ...  ...          ...  ..   \n",
              "2795            t  155            t  1.05            t  148            f   ?   \n",
              "2796            t   63            t  0.88            t   72            f   ?   \n",
              "2797            t  147            t   0.8            t  183            f   ?   \n",
              "2798            t  100            t  0.83            t  121            f   ?   \n",
              "2799            t  114            t  0.99            t  115            f   ?   \n",
              "\n",
              "     Referral Source           Class  \n",
              "0               SVHC  negative.|3733  \n",
              "1              other  negative.|1442  \n",
              "2              other  negative.|2965  \n",
              "3              other   negative.|806  \n",
              "4                SVI  negative.|2807  \n",
              "...              ...             ...  \n",
              "2795             SVI  negative.|3689  \n",
              "2796           other  negative.|3652  \n",
              "2797           other  negative.|1287  \n",
              "2798           other  negative.|3496  \n",
              "2799             SVI   negative.|724  \n",
              "\n",
              "[2800 rows x 30 columns]"
            ],
            "text/html": [
              "\n",
              "  <div id=\"df-f864584e-4c76-4470-8fda-98264023bad7\" class=\"colab-df-container\">\n",
              "    <div>\n",
              "<style scoped>\n",
              "    .dataframe tbody tr th:only-of-type {\n",
              "        vertical-align: middle;\n",
              "    }\n",
              "\n",
              "    .dataframe tbody tr th {\n",
              "        vertical-align: top;\n",
              "    }\n",
              "\n",
              "    .dataframe thead th {\n",
              "        text-align: right;\n",
              "    }\n",
              "</style>\n",
              "<table border=\"1\" class=\"dataframe\">\n",
              "  <thead>\n",
              "    <tr style=\"text-align: right;\">\n",
              "      <th></th>\n",
              "      <th>Age</th>\n",
              "      <th>Sex</th>\n",
              "      <th>On Thyroxine</th>\n",
              "      <th>Query on Thyroxine</th>\n",
              "      <th>On Antithyroid Medication</th>\n",
              "      <th>Sick</th>\n",
              "      <th>Pregnant</th>\n",
              "      <th>Thyroid Surgery</th>\n",
              "      <th>I131 Treatment</th>\n",
              "      <th>Query Hypothyroid</th>\n",
              "      <th>...</th>\n",
              "      <th>TT4 Measured</th>\n",
              "      <th>TT4</th>\n",
              "      <th>T4U Measured</th>\n",
              "      <th>T4U</th>\n",
              "      <th>FTI Measured</th>\n",
              "      <th>FTI</th>\n",
              "      <th>TBG Measured</th>\n",
              "      <th>TBG</th>\n",
              "      <th>Referral Source</th>\n",
              "      <th>Class</th>\n",
              "    </tr>\n",
              "  </thead>\n",
              "  <tbody>\n",
              "    <tr>\n",
              "      <th>0</th>\n",
              "      <td>41</td>\n",
              "      <td>F</td>\n",
              "      <td>f</td>\n",
              "      <td>f</td>\n",
              "      <td>f</td>\n",
              "      <td>f</td>\n",
              "      <td>f</td>\n",
              "      <td>f</td>\n",
              "      <td>f</td>\n",
              "      <td>f</td>\n",
              "      <td>...</td>\n",
              "      <td>t</td>\n",
              "      <td>125</td>\n",
              "      <td>t</td>\n",
              "      <td>1.14</td>\n",
              "      <td>t</td>\n",
              "      <td>109</td>\n",
              "      <td>f</td>\n",
              "      <td>?</td>\n",
              "      <td>SVHC</td>\n",
              "      <td>negative.|3733</td>\n",
              "    </tr>\n",
              "    <tr>\n",
              "      <th>1</th>\n",
              "      <td>23</td>\n",
              "      <td>F</td>\n",
              "      <td>f</td>\n",
              "      <td>f</td>\n",
              "      <td>f</td>\n",
              "      <td>f</td>\n",
              "      <td>f</td>\n",
              "      <td>f</td>\n",
              "      <td>f</td>\n",
              "      <td>f</td>\n",
              "      <td>...</td>\n",
              "      <td>t</td>\n",
              "      <td>102</td>\n",
              "      <td>f</td>\n",
              "      <td>?</td>\n",
              "      <td>f</td>\n",
              "      <td>?</td>\n",
              "      <td>f</td>\n",
              "      <td>?</td>\n",
              "      <td>other</td>\n",
              "      <td>negative.|1442</td>\n",
              "    </tr>\n",
              "    <tr>\n",
              "      <th>2</th>\n",
              "      <td>46</td>\n",
              "      <td>M</td>\n",
              "      <td>f</td>\n",
              "      <td>f</td>\n",
              "      <td>f</td>\n",
              "      <td>f</td>\n",
              "      <td>f</td>\n",
              "      <td>f</td>\n",
              "      <td>f</td>\n",
              "      <td>f</td>\n",
              "      <td>...</td>\n",
              "      <td>t</td>\n",
              "      <td>109</td>\n",
              "      <td>t</td>\n",
              "      <td>0.91</td>\n",
              "      <td>t</td>\n",
              "      <td>120</td>\n",
              "      <td>f</td>\n",
              "      <td>?</td>\n",
              "      <td>other</td>\n",
              "      <td>negative.|2965</td>\n",
              "    </tr>\n",
              "    <tr>\n",
              "      <th>3</th>\n",
              "      <td>70</td>\n",
              "      <td>F</td>\n",
              "      <td>t</td>\n",
              "      <td>f</td>\n",
              "      <td>f</td>\n",
              "      <td>f</td>\n",
              "      <td>f</td>\n",
              "      <td>f</td>\n",
              "      <td>f</td>\n",
              "      <td>f</td>\n",
              "      <td>...</td>\n",
              "      <td>t</td>\n",
              "      <td>175</td>\n",
              "      <td>f</td>\n",
              "      <td>?</td>\n",
              "      <td>f</td>\n",
              "      <td>?</td>\n",
              "      <td>f</td>\n",
              "      <td>?</td>\n",
              "      <td>other</td>\n",
              "      <td>negative.|806</td>\n",
              "    </tr>\n",
              "    <tr>\n",
              "      <th>4</th>\n",
              "      <td>70</td>\n",
              "      <td>F</td>\n",
              "      <td>f</td>\n",
              "      <td>f</td>\n",
              "      <td>f</td>\n",
              "      <td>f</td>\n",
              "      <td>f</td>\n",
              "      <td>f</td>\n",
              "      <td>f</td>\n",
              "      <td>f</td>\n",
              "      <td>...</td>\n",
              "      <td>t</td>\n",
              "      <td>61</td>\n",
              "      <td>t</td>\n",
              "      <td>0.87</td>\n",
              "      <td>t</td>\n",
              "      <td>70</td>\n",
              "      <td>f</td>\n",
              "      <td>?</td>\n",
              "      <td>SVI</td>\n",
              "      <td>negative.|2807</td>\n",
              "    </tr>\n",
              "    <tr>\n",
              "      <th>...</th>\n",
              "      <td>...</td>\n",
              "      <td>...</td>\n",
              "      <td>...</td>\n",
              "      <td>...</td>\n",
              "      <td>...</td>\n",
              "      <td>...</td>\n",
              "      <td>...</td>\n",
              "      <td>...</td>\n",
              "      <td>...</td>\n",
              "      <td>...</td>\n",
              "      <td>...</td>\n",
              "      <td>...</td>\n",
              "      <td>...</td>\n",
              "      <td>...</td>\n",
              "      <td>...</td>\n",
              "      <td>...</td>\n",
              "      <td>...</td>\n",
              "      <td>...</td>\n",
              "      <td>...</td>\n",
              "      <td>...</td>\n",
              "      <td>...</td>\n",
              "    </tr>\n",
              "    <tr>\n",
              "      <th>2795</th>\n",
              "      <td>70</td>\n",
              "      <td>M</td>\n",
              "      <td>f</td>\n",
              "      <td>f</td>\n",
              "      <td>f</td>\n",
              "      <td>f</td>\n",
              "      <td>f</td>\n",
              "      <td>f</td>\n",
              "      <td>f</td>\n",
              "      <td>f</td>\n",
              "      <td>...</td>\n",
              "      <td>t</td>\n",
              "      <td>155</td>\n",
              "      <td>t</td>\n",
              "      <td>1.05</td>\n",
              "      <td>t</td>\n",
              "      <td>148</td>\n",
              "      <td>f</td>\n",
              "      <td>?</td>\n",
              "      <td>SVI</td>\n",
              "      <td>negative.|3689</td>\n",
              "    </tr>\n",
              "    <tr>\n",
              "      <th>2796</th>\n",
              "      <td>73</td>\n",
              "      <td>M</td>\n",
              "      <td>f</td>\n",
              "      <td>t</td>\n",
              "      <td>f</td>\n",
              "      <td>f</td>\n",
              "      <td>f</td>\n",
              "      <td>f</td>\n",
              "      <td>f</td>\n",
              "      <td>f</td>\n",
              "      <td>...</td>\n",
              "      <td>t</td>\n",
              "      <td>63</td>\n",
              "      <td>t</td>\n",
              "      <td>0.88</td>\n",
              "      <td>t</td>\n",
              "      <td>72</td>\n",
              "      <td>f</td>\n",
              "      <td>?</td>\n",
              "      <td>other</td>\n",
              "      <td>negative.|3652</td>\n",
              "    </tr>\n",
              "    <tr>\n",
              "      <th>2797</th>\n",
              "      <td>75</td>\n",
              "      <td>M</td>\n",
              "      <td>f</td>\n",
              "      <td>f</td>\n",
              "      <td>f</td>\n",
              "      <td>f</td>\n",
              "      <td>f</td>\n",
              "      <td>f</td>\n",
              "      <td>f</td>\n",
              "      <td>f</td>\n",
              "      <td>...</td>\n",
              "      <td>t</td>\n",
              "      <td>147</td>\n",
              "      <td>t</td>\n",
              "      <td>0.8</td>\n",
              "      <td>t</td>\n",
              "      <td>183</td>\n",
              "      <td>f</td>\n",
              "      <td>?</td>\n",
              "      <td>other</td>\n",
              "      <td>negative.|1287</td>\n",
              "    </tr>\n",
              "    <tr>\n",
              "      <th>2798</th>\n",
              "      <td>60</td>\n",
              "      <td>F</td>\n",
              "      <td>f</td>\n",
              "      <td>f</td>\n",
              "      <td>f</td>\n",
              "      <td>f</td>\n",
              "      <td>f</td>\n",
              "      <td>f</td>\n",
              "      <td>f</td>\n",
              "      <td>f</td>\n",
              "      <td>...</td>\n",
              "      <td>t</td>\n",
              "      <td>100</td>\n",
              "      <td>t</td>\n",
              "      <td>0.83</td>\n",
              "      <td>t</td>\n",
              "      <td>121</td>\n",
              "      <td>f</td>\n",
              "      <td>?</td>\n",
              "      <td>other</td>\n",
              "      <td>negative.|3496</td>\n",
              "    </tr>\n",
              "    <tr>\n",
              "      <th>2799</th>\n",
              "      <td>81</td>\n",
              "      <td>F</td>\n",
              "      <td>f</td>\n",
              "      <td>f</td>\n",
              "      <td>f</td>\n",
              "      <td>f</td>\n",
              "      <td>f</td>\n",
              "      <td>f</td>\n",
              "      <td>f</td>\n",
              "      <td>f</td>\n",
              "      <td>...</td>\n",
              "      <td>t</td>\n",
              "      <td>114</td>\n",
              "      <td>t</td>\n",
              "      <td>0.99</td>\n",
              "      <td>t</td>\n",
              "      <td>115</td>\n",
              "      <td>f</td>\n",
              "      <td>?</td>\n",
              "      <td>SVI</td>\n",
              "      <td>negative.|724</td>\n",
              "    </tr>\n",
              "  </tbody>\n",
              "</table>\n",
              "<p>2800 rows × 30 columns</p>\n",
              "</div>\n",
              "    <div class=\"colab-df-buttons\">\n",
              "\n",
              "  <div class=\"colab-df-container\">\n",
              "    <button class=\"colab-df-convert\" onclick=\"convertToInteractive('df-f864584e-4c76-4470-8fda-98264023bad7')\"\n",
              "            title=\"Convert this dataframe to an interactive table.\"\n",
              "            style=\"display:none;\">\n",
              "\n",
              "  <svg xmlns=\"http://www.w3.org/2000/svg\" height=\"24px\" viewBox=\"0 -960 960 960\">\n",
              "    <path d=\"M120-120v-720h720v720H120Zm60-500h600v-160H180v160Zm220 220h160v-160H400v160Zm0 220h160v-160H400v160ZM180-400h160v-160H180v160Zm440 0h160v-160H620v160ZM180-180h160v-160H180v160Zm440 0h160v-160H620v160Z\"/>\n",
              "  </svg>\n",
              "    </button>\n",
              "\n",
              "  <style>\n",
              "    .colab-df-container {\n",
              "      display:flex;\n",
              "      gap: 12px;\n",
              "    }\n",
              "\n",
              "    .colab-df-convert {\n",
              "      background-color: #E8F0FE;\n",
              "      border: none;\n",
              "      border-radius: 50%;\n",
              "      cursor: pointer;\n",
              "      display: none;\n",
              "      fill: #1967D2;\n",
              "      height: 32px;\n",
              "      padding: 0 0 0 0;\n",
              "      width: 32px;\n",
              "    }\n",
              "\n",
              "    .colab-df-convert:hover {\n",
              "      background-color: #E2EBFA;\n",
              "      box-shadow: 0px 1px 2px rgba(60, 64, 67, 0.3), 0px 1px 3px 1px rgba(60, 64, 67, 0.15);\n",
              "      fill: #174EA6;\n",
              "    }\n",
              "\n",
              "    .colab-df-buttons div {\n",
              "      margin-bottom: 4px;\n",
              "    }\n",
              "\n",
              "    [theme=dark] .colab-df-convert {\n",
              "      background-color: #3B4455;\n",
              "      fill: #D2E3FC;\n",
              "    }\n",
              "\n",
              "    [theme=dark] .colab-df-convert:hover {\n",
              "      background-color: #434B5C;\n",
              "      box-shadow: 0px 1px 3px 1px rgba(0, 0, 0, 0.15);\n",
              "      filter: drop-shadow(0px 1px 2px rgba(0, 0, 0, 0.3));\n",
              "      fill: #FFFFFF;\n",
              "    }\n",
              "  </style>\n",
              "\n",
              "    <script>\n",
              "      const buttonEl =\n",
              "        document.querySelector('#df-f864584e-4c76-4470-8fda-98264023bad7 button.colab-df-convert');\n",
              "      buttonEl.style.display =\n",
              "        google.colab.kernel.accessAllowed ? 'block' : 'none';\n",
              "\n",
              "      async function convertToInteractive(key) {\n",
              "        const element = document.querySelector('#df-f864584e-4c76-4470-8fda-98264023bad7');\n",
              "        const dataTable =\n",
              "          await google.colab.kernel.invokeFunction('convertToInteractive',\n",
              "                                                    [key], {});\n",
              "        if (!dataTable) return;\n",
              "\n",
              "        const docLinkHtml = 'Like what you see? Visit the ' +\n",
              "          '<a target=\"_blank\" href=https://colab.research.google.com/notebooks/data_table.ipynb>data table notebook</a>'\n",
              "          + ' to learn more about interactive tables.';\n",
              "        element.innerHTML = '';\n",
              "        dataTable['output_type'] = 'display_data';\n",
              "        await google.colab.output.renderOutput(dataTable, element);\n",
              "        const docLink = document.createElement('div');\n",
              "        docLink.innerHTML = docLinkHtml;\n",
              "        element.appendChild(docLink);\n",
              "      }\n",
              "    </script>\n",
              "  </div>\n",
              "\n",
              "\n",
              "    <div id=\"df-12168bea-67f1-446a-a7d1-d765fdebee70\">\n",
              "      <button class=\"colab-df-quickchart\" onclick=\"quickchart('df-12168bea-67f1-446a-a7d1-d765fdebee70')\"\n",
              "                title=\"Suggest charts\"\n",
              "                style=\"display:none;\">\n",
              "\n",
              "<svg xmlns=\"http://www.w3.org/2000/svg\" height=\"24px\"viewBox=\"0 0 24 24\"\n",
              "     width=\"24px\">\n",
              "    <g>\n",
              "        <path d=\"M19 3H5c-1.1 0-2 .9-2 2v14c0 1.1.9 2 2 2h14c1.1 0 2-.9 2-2V5c0-1.1-.9-2-2-2zM9 17H7v-7h2v7zm4 0h-2V7h2v10zm4 0h-2v-4h2v4z\"/>\n",
              "    </g>\n",
              "</svg>\n",
              "      </button>\n",
              "\n",
              "<style>\n",
              "  .colab-df-quickchart {\n",
              "      --bg-color: #E8F0FE;\n",
              "      --fill-color: #1967D2;\n",
              "      --hover-bg-color: #E2EBFA;\n",
              "      --hover-fill-color: #174EA6;\n",
              "      --disabled-fill-color: #AAA;\n",
              "      --disabled-bg-color: #DDD;\n",
              "  }\n",
              "\n",
              "  [theme=dark] .colab-df-quickchart {\n",
              "      --bg-color: #3B4455;\n",
              "      --fill-color: #D2E3FC;\n",
              "      --hover-bg-color: #434B5C;\n",
              "      --hover-fill-color: #FFFFFF;\n",
              "      --disabled-bg-color: #3B4455;\n",
              "      --disabled-fill-color: #666;\n",
              "  }\n",
              "\n",
              "  .colab-df-quickchart {\n",
              "    background-color: var(--bg-color);\n",
              "    border: none;\n",
              "    border-radius: 50%;\n",
              "    cursor: pointer;\n",
              "    display: none;\n",
              "    fill: var(--fill-color);\n",
              "    height: 32px;\n",
              "    padding: 0;\n",
              "    width: 32px;\n",
              "  }\n",
              "\n",
              "  .colab-df-quickchart:hover {\n",
              "    background-color: var(--hover-bg-color);\n",
              "    box-shadow: 0 1px 2px rgba(60, 64, 67, 0.3), 0 1px 3px 1px rgba(60, 64, 67, 0.15);\n",
              "    fill: var(--button-hover-fill-color);\n",
              "  }\n",
              "\n",
              "  .colab-df-quickchart-complete:disabled,\n",
              "  .colab-df-quickchart-complete:disabled:hover {\n",
              "    background-color: var(--disabled-bg-color);\n",
              "    fill: var(--disabled-fill-color);\n",
              "    box-shadow: none;\n",
              "  }\n",
              "\n",
              "  .colab-df-spinner {\n",
              "    border: 2px solid var(--fill-color);\n",
              "    border-color: transparent;\n",
              "    border-bottom-color: var(--fill-color);\n",
              "    animation:\n",
              "      spin 1s steps(1) infinite;\n",
              "  }\n",
              "\n",
              "  @keyframes spin {\n",
              "    0% {\n",
              "      border-color: transparent;\n",
              "      border-bottom-color: var(--fill-color);\n",
              "      border-left-color: var(--fill-color);\n",
              "    }\n",
              "    20% {\n",
              "      border-color: transparent;\n",
              "      border-left-color: var(--fill-color);\n",
              "      border-top-color: var(--fill-color);\n",
              "    }\n",
              "    30% {\n",
              "      border-color: transparent;\n",
              "      border-left-color: var(--fill-color);\n",
              "      border-top-color: var(--fill-color);\n",
              "      border-right-color: var(--fill-color);\n",
              "    }\n",
              "    40% {\n",
              "      border-color: transparent;\n",
              "      border-right-color: var(--fill-color);\n",
              "      border-top-color: var(--fill-color);\n",
              "    }\n",
              "    60% {\n",
              "      border-color: transparent;\n",
              "      border-right-color: var(--fill-color);\n",
              "    }\n",
              "    80% {\n",
              "      border-color: transparent;\n",
              "      border-right-color: var(--fill-color);\n",
              "      border-bottom-color: var(--fill-color);\n",
              "    }\n",
              "    90% {\n",
              "      border-color: transparent;\n",
              "      border-bottom-color: var(--fill-color);\n",
              "    }\n",
              "  }\n",
              "</style>\n",
              "\n",
              "      <script>\n",
              "        async function quickchart(key) {\n",
              "          const quickchartButtonEl =\n",
              "            document.querySelector('#' + key + ' button');\n",
              "          quickchartButtonEl.disabled = true;  // To prevent multiple clicks.\n",
              "          quickchartButtonEl.classList.add('colab-df-spinner');\n",
              "          try {\n",
              "            const charts = await google.colab.kernel.invokeFunction(\n",
              "                'suggestCharts', [key], {});\n",
              "          } catch (error) {\n",
              "            console.error('Error during call to suggestCharts:', error);\n",
              "          }\n",
              "          quickchartButtonEl.classList.remove('colab-df-spinner');\n",
              "          quickchartButtonEl.classList.add('colab-df-quickchart-complete');\n",
              "        }\n",
              "        (() => {\n",
              "          let quickchartButtonEl =\n",
              "            document.querySelector('#df-12168bea-67f1-446a-a7d1-d765fdebee70 button');\n",
              "          quickchartButtonEl.style.display =\n",
              "            google.colab.kernel.accessAllowed ? 'block' : 'none';\n",
              "        })();\n",
              "      </script>\n",
              "    </div>\n",
              "\n",
              "  <div id=\"id_32339fb9-8a05-40f8-9d6c-9936e0e7e302\">\n",
              "    <style>\n",
              "      .colab-df-generate {\n",
              "        background-color: #E8F0FE;\n",
              "        border: none;\n",
              "        border-radius: 50%;\n",
              "        cursor: pointer;\n",
              "        display: none;\n",
              "        fill: #1967D2;\n",
              "        height: 32px;\n",
              "        padding: 0 0 0 0;\n",
              "        width: 32px;\n",
              "      }\n",
              "\n",
              "      .colab-df-generate:hover {\n",
              "        background-color: #E2EBFA;\n",
              "        box-shadow: 0px 1px 2px rgba(60, 64, 67, 0.3), 0px 1px 3px 1px rgba(60, 64, 67, 0.15);\n",
              "        fill: #174EA6;\n",
              "      }\n",
              "\n",
              "      [theme=dark] .colab-df-generate {\n",
              "        background-color: #3B4455;\n",
              "        fill: #D2E3FC;\n",
              "      }\n",
              "\n",
              "      [theme=dark] .colab-df-generate:hover {\n",
              "        background-color: #434B5C;\n",
              "        box-shadow: 0px 1px 3px 1px rgba(0, 0, 0, 0.15);\n",
              "        filter: drop-shadow(0px 1px 2px rgba(0, 0, 0, 0.3));\n",
              "        fill: #FFFFFF;\n",
              "      }\n",
              "    </style>\n",
              "    <button class=\"colab-df-generate\" onclick=\"generateWithVariable('data')\"\n",
              "            title=\"Generate code using this dataframe.\"\n",
              "            style=\"display:none;\">\n",
              "\n",
              "  <svg xmlns=\"http://www.w3.org/2000/svg\" height=\"24px\"viewBox=\"0 0 24 24\"\n",
              "       width=\"24px\">\n",
              "    <path d=\"M7,19H8.4L18.45,9,17,7.55,7,17.6ZM5,21V16.75L18.45,3.32a2,2,0,0,1,2.83,0l1.4,1.43a1.91,1.91,0,0,1,.58,1.4,1.91,1.91,0,0,1-.58,1.4L9.25,21ZM18.45,9,17,7.55Zm-12,3A5.31,5.31,0,0,0,4.9,8.1,5.31,5.31,0,0,0,1,6.5,5.31,5.31,0,0,0,4.9,4.9,5.31,5.31,0,0,0,6.5,1,5.31,5.31,0,0,0,8.1,4.9,5.31,5.31,0,0,0,12,6.5,5.46,5.46,0,0,0,6.5,12Z\"/>\n",
              "  </svg>\n",
              "    </button>\n",
              "    <script>\n",
              "      (() => {\n",
              "      const buttonEl =\n",
              "        document.querySelector('#id_32339fb9-8a05-40f8-9d6c-9936e0e7e302 button.colab-df-generate');\n",
              "      buttonEl.style.display =\n",
              "        google.colab.kernel.accessAllowed ? 'block' : 'none';\n",
              "\n",
              "      buttonEl.onclick = () => {\n",
              "        google.colab.notebook.generateWithVariable('data');\n",
              "      }\n",
              "      })();\n",
              "    </script>\n",
              "  </div>\n",
              "\n",
              "    </div>\n",
              "  </div>\n"
            ],
            "application/vnd.google.colaboratory.intrinsic+json": {
              "type": "dataframe",
              "variable_name": "data"
            }
          },
          "metadata": {},
          "execution_count": 4
        }
      ],
      "source": [
        "data"
      ]
    },
    {
      "cell_type": "code",
      "execution_count": null,
      "metadata": {
        "colab": {
          "base_uri": "https://localhost:8080/",
          "height": 248
        },
        "id": "BlTsaK5n5Bg1",
        "outputId": "6cbfabde-1ee9-4a62-f7b0-65ae200163ab"
      },
      "outputs": [
        {
          "output_type": "stream",
          "name": "stderr",
          "text": [
            "/tmp/ipython-input-5-3719440102.py:3: FutureWarning: Downcasting behavior in `replace` is deprecated and will be removed in a future version. To retain the old behavior, explicitly call `result.infer_objects(copy=False)`. To opt-in to the future behavior, set `pd.set_option('future.no_silent_downcasting', True)`\n",
            "  data.replace(\"?\", np.nan, inplace=True)\n"
          ]
        },
        {
          "output_type": "error",
          "ename": "NameError",
          "evalue": "name 'test_final' is not defined",
          "traceback": [
            "\u001b[0;31m---------------------------------------------------------------------------\u001b[0m",
            "\u001b[0;31mNameError\u001b[0m                                 Traceback (most recent call last)",
            "\u001b[0;32m/tmp/ipython-input-5-3719440102.py\u001b[0m in \u001b[0;36m<cell line: 0>\u001b[0;34m()\u001b[0m\n\u001b[1;32m      4\u001b[0m \u001b[0mdata\u001b[0m\u001b[0;34m\u001b[0m\u001b[0;34m\u001b[0m\u001b[0m\n\u001b[1;32m      5\u001b[0m \u001b[0;34m\u001b[0m\u001b[0m\n\u001b[0;32m----> 6\u001b[0;31m \u001b[0mtest_final\u001b[0m\u001b[0;34m.\u001b[0m\u001b[0mreplace\u001b[0m\u001b[0;34m(\u001b[0m\u001b[0;34m\"?\"\u001b[0m\u001b[0;34m,\u001b[0m \u001b[0mnp\u001b[0m\u001b[0;34m.\u001b[0m\u001b[0mnan\u001b[0m\u001b[0;34m,\u001b[0m \u001b[0minplace\u001b[0m\u001b[0;34m=\u001b[0m\u001b[0;32mTrue\u001b[0m\u001b[0;34m)\u001b[0m\u001b[0;34m\u001b[0m\u001b[0;34m\u001b[0m\u001b[0m\n\u001b[0m\u001b[1;32m      7\u001b[0m \u001b[0;34m\u001b[0m\u001b[0m\n",
            "\u001b[0;31mNameError\u001b[0m: name 'test_final' is not defined"
          ]
        }
      ],
      "source": [
        " import numpy as np\n",
        "\n",
        "data.replace(\"?\", np.nan, inplace=True)\n",
        "data\n",
        "\n",
        "test_final.replace(\"?\", np.nan, inplace=True)\n",
        "\n"
      ]
    },
    {
      "cell_type": "code",
      "execution_count": null,
      "metadata": {
        "id": "PJ4n79eRumBD"
      },
      "outputs": [],
      "source": [
        "cols = data.columns\n",
        "columns_with_nan_list = data.columns[data.isna().any()].tolist()\n",
        "print(columns_with_nan_list)"
      ]
    },
    {
      "cell_type": "code",
      "execution_count": null,
      "metadata": {
        "id": "SS8Q_UXD3sWQ"
      },
      "outputs": [],
      "source": [
        "columns_with_nan_list.remove('Sex')\n"
      ]
    },
    {
      "cell_type": "code",
      "execution_count": null,
      "metadata": {
        "id": "rJ2KjVGyxOCG"
      },
      "outputs": [],
      "source": [
        "for cols in columns_with_nan_list:\n",
        "  data[cols] = pd.to_numeric(data[cols])\n",
        "\n",
        "  median = data[cols].median()\n",
        "  print(median)\n",
        "  data[cols].replace(np.nan, median, inplace=True)\n",
        "\n",
        "\n",
        "data"
      ]
    },
    {
      "cell_type": "markdown",
      "metadata": {
        "id": "HZo7iKHUD3DG"
      },
      "source": [
        "Hmm, still looks like the TBG column is unfilled, implying it was empty to begin with. Let's get rid of this column, then (and make sure to get rid of it in your list of numeric columns, too!)"
      ]
    },
    {
      "cell_type": "code",
      "execution_count": null,
      "metadata": {
        "id": "yAe5FIFkD25f"
      },
      "outputs": [],
      "source": [
        "data = data.drop('TBG', axis=1)"
      ]
    },
    {
      "cell_type": "code",
      "execution_count": null,
      "metadata": {
        "id": "0DQUhCNFzxnK"
      },
      "outputs": [],
      "source": [
        "numeric_cols = data.select_dtypes(include=\"number\").columns.tolist()\n",
        "numeric_cols"
      ]
    },
    {
      "cell_type": "markdown",
      "metadata": {
        "id": "DTjWD_ddCHsA"
      },
      "source": [
        "All right, let's take a look now at the info of *just the numeric columns* in the dataset:"
      ]
    },
    {
      "cell_type": "code",
      "execution_count": null,
      "metadata": {
        "id": "00OaxCAbzRvA"
      },
      "outputs": [],
      "source": [
        "data[numeric_cols].info()"
      ]
    },
    {
      "cell_type": "markdown",
      "metadata": {
        "id": "XOzcRX-5YRvz"
      },
      "source": [
        "Perfect, now let's fix that class feature. According to the note the data collectors included with this data, the \".|####\" refers to a patient number, and is not necessarily relevant for our purposes here."
      ]
    },
    {
      "cell_type": "code",
      "execution_count": null,
      "metadata": {
        "id": "QFmeyRcGYR7s"
      },
      "outputs": [],
      "source": [
        "import re\n",
        "regex_pattern = ( \"\\.\\|\\d+\")\n",
        "\n",
        "for index, row in data.iterrows():\n",
        "  new_class = re.sub(regex_pattern, '', row['Class'])\n",
        "  data.loc[index,'Class']=new_class\n",
        "\n",
        "data"
      ]
    },
    {
      "cell_type": "markdown",
      "metadata": {
        "id": "KYOwWnpqhQvd"
      },
      "source": [
        "Let's run the describe() function on just the \"class\" column."
      ]
    },
    {
      "cell_type": "code",
      "execution_count": null,
      "metadata": {
        "id": "cq_v45R8hP5A"
      },
      "outputs": [],
      "source": [
        "data['Class'].describe()"
      ]
    },
    {
      "cell_type": "markdown",
      "metadata": {
        "id": "m6S7Y6VXhYct"
      },
      "source": [
        "It looks like there are actually 4 unique classification variables! Thank goodness we didn't assume it was binary.\n",
        "\n",
        "Display all the unique values in the class column."
      ]
    },
    {
      "cell_type": "code",
      "execution_count": null,
      "metadata": {
        "id": "oH0fTzzvE-oF"
      },
      "outputs": [],
      "source": [
        "data['Class'].unique()\n",
        "\n"
      ]
    },
    {
      "cell_type": "markdown",
      "metadata": {
        "id": "aBrmRJHakpWm"
      },
      "source": [
        "But let's make it binary for the sake of this example anyway. If you finish early later on, try the multiclass classifier with all 4 values!"
      ]
    },
    {
      "cell_type": "code",
      "execution_count": null,
      "metadata": {
        "id": "HwqVoUFTkoa0"
      },
      "outputs": [],
      "source": [
        "data['Class'] = data['Class'].map({'negative': 0, 'compensated hypothyroid': 1, 'primary hypothyroid': 1, 'secondary hypothyroid': 1})\n",
        "\n",
        "\n",
        "data['Class'].unique()"
      ]
    },
    {
      "cell_type": "code",
      "execution_count": null,
      "metadata": {
        "id": "VcPfjoLaGWhV"
      },
      "outputs": [],
      "source": [
        "data"
      ]
    },
    {
      "cell_type": "markdown",
      "metadata": {
        "id": "jbgWOvekhluw"
      },
      "source": [
        "Before we move on, let's not forget to run the describe() function on just  your categorical columns, too.\n",
        "Compare it to the describe() that your numeric columns produce."
      ]
    },
    {
      "cell_type": "code",
      "execution_count": null,
      "metadata": {
        "id": "WHAZCbNAc5KT"
      },
      "outputs": [],
      "source": [
        "numeric_columns=list([\"Age\",\"TSH\",\"T3\",\"TT4\",\"T4U\",\"FTI\"])\n",
        "categorical_columns = list(set(data.columns)-set(numeric_columns)-set(['Class']))\n",
        "data[categorical_columns].describe()"
      ]
    },
    {
      "cell_type": "markdown",
      "metadata": {
        "id": "Jo9aRzltCOK8"
      },
      "source": [
        "Great! Let's see if there's any other records we have to address. count() is a nice way to check if we have any other missing values."
      ]
    },
    {
      "cell_type": "code",
      "execution_count": null,
      "metadata": {
        "id": "Q1yGe8nrzozW"
      },
      "outputs": [],
      "source": [
        "data.count()"
      ]
    },
    {
      "cell_type": "markdown",
      "metadata": {
        "id": "-Y9DDq8qCeL8"
      },
      "source": [
        "We could replace the missing values in proportion to the current number of males and females over the total, but that is making an assumption we don't have to make. For now, let's simply cut the records of all these sexless people out of our data."
      ]
    },
    {
      "cell_type": "code",
      "execution_count": null,
      "metadata": {
        "id": "XAaVHUse4gGP"
      },
      "outputs": [],
      "source": [
        "data = data.dropna(subset=['Sex'])"
      ]
    },
    {
      "cell_type": "markdown",
      "metadata": {
        "id": "eTcS25EHF4vL"
      },
      "source": [
        "Nice! Now we have a pretty clean dataset to work with. Let's now do some further data analysis and visualization to better understand what we're working with."
      ]
    },
    {
      "cell_type": "markdown",
      "metadata": {
        "id": "SsiaTCjQql3S"
      },
      "source": [
        "## Data analysis and visualization"
      ]
    },
    {
      "cell_type": "code",
      "execution_count": null,
      "metadata": {
        "id": "k5des-Tz7NKW"
      },
      "outputs": [],
      "source": [
        "categorical_columns"
      ]
    },
    {
      "cell_type": "code",
      "execution_count": null,
      "metadata": {
        "id": "kYGAEOscAgz2"
      },
      "outputs": [],
      "source": [
        "categorical_columns.append(\"TBG Measured\")"
      ]
    },
    {
      "cell_type": "markdown",
      "metadata": {
        "id": "huFOG2Mw3OqJ"
      },
      "source": [
        "Check the correlation of the dataset"
      ]
    },
    {
      "cell_type": "code",
      "execution_count": null,
      "metadata": {
        "id": "fXrXSMW_GSeT"
      },
      "outputs": [],
      "source": [
        "### Your code here\n",
        "\n",
        "data['Sex'] = data['Sex'].map({'M': 0, 'F': 1})\n",
        "data['Referral Source'] = data['Referral Source'].map({'SVHC': 0, 'SVI': 1, 'SVHD': 2, 'STMW': 3, 'other': 4})\n",
        "\n",
        "\n"
      ]
    },
    {
      "cell_type": "code",
      "execution_count": null,
      "metadata": {
        "id": "VVeX9aEMAy8l"
      },
      "outputs": [],
      "source": [
        "categorical_columns.append(\"TBG Measured\")\n",
        "for col in categorical_columns:\n",
        "    if col not in [\"Sex\", \"Referral Source\"]:\n",
        "        data.loc[:, col] = data[col].map({'f': 0, 't': 1})\n",
        "\n"
      ]
    },
    {
      "cell_type": "code",
      "execution_count": null,
      "metadata": {
        "id": "D9kWLdRrEZAQ"
      },
      "outputs": [],
      "source": [
        "data = data.drop(columns=['TBG Measured'])"
      ]
    },
    {
      "cell_type": "code",
      "execution_count": null,
      "metadata": {
        "id": "4RvIVbPSBFeV"
      },
      "outputs": [],
      "source": [
        "#correlation\n",
        "data.corr()"
      ]
    },
    {
      "cell_type": "markdown",
      "metadata": {
        "id": "scfm6AEv3YIJ"
      },
      "source": [
        "Convert the class feature to numeric so we can also see the correlations it has with the numeric features, and check the correlation again."
      ]
    },
    {
      "cell_type": "code",
      "execution_count": null,
      "metadata": {
        "id": "2bGleemH3o3b"
      },
      "outputs": [],
      "source": [
        "#already done!!"
      ]
    },
    {
      "cell_type": "markdown",
      "metadata": {
        "id": "tp4yO5kUGd3L"
      },
      "source": [
        "Let's do some further visual analysis using a new module called seaborn. Explore its incredible versatility and diversity with data visualization here: https://seaborn.pydata.org/"
      ]
    },
    {
      "cell_type": "code",
      "execution_count": null,
      "metadata": {
        "id": "JzkaBa64aXzb"
      },
      "outputs": [],
      "source": [
        "import seaborn as sns\n",
        "sns.pairplot(data, vars = data.columns)"
      ]
    },
    {
      "cell_type": "markdown",
      "metadata": {
        "id": "mvW7_0aWFSEm"
      },
      "source": [
        "OK! I think we're ready to create and select some supervised learning models. To get the ball rolling, select Age and Sex as our explanatory features (and class as the target feature, obviously)."
      ]
    },
    {
      "cell_type": "markdown",
      "metadata": {
        "id": "JXMQ9UaKqyha"
      },
      "source": [
        "## Model training and selection"
      ]
    },
    {
      "cell_type": "markdown",
      "metadata": {
        "id": "Mon3ih88tW8y"
      },
      "source": [
        "Let's dummy the categorical variables (but not the class value!) and view the column names to select some for our model."
      ]
    },
    {
      "cell_type": "code",
      "execution_count": null,
      "metadata": {
        "id": "uSIcjGL8KxSH"
      },
      "outputs": [],
      "source": [
        "#categorical_columns = list(set(data.columns)-set(numeric_columns)-set(['Class']))\n",
        "\n",
        "#data = data.drop(categorical_columns, axis = 1)\n",
        "data['Class'].describe()"
      ]
    },
    {
      "cell_type": "markdown",
      "metadata": {
        "id": "4yEeqjv19hCX"
      },
      "source": [
        "All right, let's now split our data into training and testing in an 80-20 split. For consistency, let's all use a seed of 8675309."
      ]
    },
    {
      "cell_type": "code",
      "execution_count": null,
      "metadata": {
        "id": "GQqlCTGntXCX"
      },
      "outputs": [],
      "source": [
        "from sklearn.model_selection import train_test_split\n",
        "features = ['Age', 'Sex']\n",
        "label = ['Class']\n",
        "X_train, X_test, y_train, y_test = train_test_split(data[features], data[label], test_size=0.2, random_state=8675309)\n",
        "## Your code here\n",
        "\n"
      ]
    },
    {
      "cell_type": "markdown",
      "metadata": {
        "id": "6KGUCXBE-OFy"
      },
      "source": [
        "For reusability, let's make a logistic regression function that will take our training and testing data as arguments. Inside the function, build a model on your training data, fit it with your training class data, and return a list of your predictions."
      ]
    },
    {
      "cell_type": "code",
      "execution_count": null,
      "metadata": {
        "id": "DawvoHd7lnG9"
      },
      "outputs": [],
      "source": [
        "from sklearn import metrics\n",
        "from sklearn.linear_model import LogisticRegression\n",
        "from sklearn.metrics import accuracy_score\n",
        "\n",
        "def log_reg(train_X,train_Y,test_X,test_Y):\n",
        "\n",
        "  ### Your code here\n",
        "  lr = LogisticRegression(random_state=42, max_iter = 100)\n",
        "  lr.fit(train_X, train_Y)\n",
        "  y_pred = lr.predict(test_X)\n",
        "  #return accuracy_score(y_pred, test_Y)\n",
        "  return y_pred\n",
        "\n",
        "\n",
        "y_pred =log_reg(X_train, y_train, X_test, y_test)\n",
        "\n",
        "\n"
      ]
    },
    {
      "cell_type": "markdown",
      "metadata": {
        "id": "JR8xu_VVsygN"
      },
      "source": [
        "Fantastic, we have just built a logistic regression model! Let's go see how well it performs."
      ]
    },
    {
      "cell_type": "markdown",
      "metadata": {
        "id": "gAz096POwSRJ"
      },
      "source": [
        "### Model evaluation"
      ]
    },
    {
      "cell_type": "markdown",
      "metadata": {
        "id": "570duVNhrTZh"
      },
      "source": [
        "To start, let's establish the baseline performance. This is important because it provides a starting point of comparison for later evaluation methods, like accuracy.\n",
        "\n",
        "A good baseline model to use is the Zero Rule algorithm. In classification problems, it simply predicts the class value with the greatest number of instances every time."
      ]
    },
    {
      "cell_type": "code",
      "execution_count": null,
      "metadata": {
        "id": "fwvqucK_Yg-2"
      },
      "outputs": [],
      "source": [
        "def zero_rule_algorithm_classification(train,test):\n",
        "  majority_class = train.value_counts().idxmax()\n",
        "  predictions = np.full(shape=len(test), fill_value=majority_class)\n",
        "  return predictions\n",
        "\n",
        "\n",
        "zero_rule_algorithm_classification(y_train, y_test)"
      ]
    },
    {
      "cell_type": "markdown",
      "metadata": {
        "id": "I_nExUgUYll5"
      },
      "source": [
        "Get your baseline performance by calculating the accuracy of your Zero Rule algorithm."
      ]
    },
    {
      "cell_type": "code",
      "execution_count": null,
      "metadata": {
        "id": "zs0M8OdtYidB"
      },
      "outputs": [],
      "source": [
        "accuracy_score(zero_rule_algorithm_classification(y_train, y_test), y_test)"
      ]
    },
    {
      "cell_type": "markdown",
      "metadata": {
        "id": "WksirqfT5Ecw"
      },
      "source": [
        "So maybe accuracy isn't the best performance measure for this dataset. As you've seen already, even when the models predict \"negative\" for all the records, we could already achieve a ~92% accuracy. However, that also implies we incorrectly predicted 100% of the positive cases, which in the context of this problem, is fatal.\n",
        "\n",
        "Thankfully, it isn't the only way to evaluate your model. Let's take a look at a confusion matrix.\n",
        "\n",
        "![alt text](https://i.imgur.com/uipmEwt.png)"
      ]
    },
    {
      "cell_type": "markdown",
      "metadata": {
        "id": "-vzqX_SKaBzK"
      },
      "source": [
        "Create a confusion matrix using the logistic regression function you built earlier."
      ]
    },
    {
      "cell_type": "code",
      "execution_count": null,
      "metadata": {
        "id": "DSS7JdYjaBWh"
      },
      "outputs": [],
      "source": [
        "from sklearn.metrics import confusion_matrix\n",
        "### Your code here\n",
        "cm = confusion_matrix(y_pred, y_test)\n",
        "cm"
      ]
    },
    {
      "cell_type": "markdown",
      "metadata": {
        "id": "z0JPOHmQn8N6"
      },
      "source": [
        "\n",
        "Yet another appropriate metric is the Area Under the Receiver Operator Curve. Specifically, the diagnostic performance of a test, or the accuracy of a test to discriminate diseased cases from normal cases is evaluated using Receiver Operating Characteristic (ROC) curve analysis.\n",
        "\n",
        "When you consider the results of a particular test in two populations, one population with a disease, the other population without the disease, you will rarely observe a perfect separation between the two groups. Hence, the overlapping areas in the diagram below (FN, FP).\n",
        "\n",
        "In a Receiver Operating Characteristic (ROC) curve the true positive rate (Sensitivity) is plotted in function of the false positive rate (100-Specificity) for different cut-off points. Each point on the ROC curve represents a sensitivity/specificity pair corresponding to a particular decision threshold. A test with perfect discrimination (no overlap in the two distributions) has a ROC curve that passes through the upper left corner (100% sensitivity, 100% specificity). Therefore the closer the ROC curve is to the upper left corner, the higher the overall accuracy of the test.\n",
        "\n",
        "![alt text](https://www.medcalc.org/manual/_help/images/roc_intro1.png)\n",
        "\n",
        "\n",
        "\n"
      ]
    },
    {
      "cell_type": "markdown",
      "metadata": {
        "id": "cvTWQTcycBEp"
      },
      "source": [
        "Now, to graph the AUROC curve, we will need to predict probabilities of choosing a specific class value rather than the class value itself. Make a new logistic regression model that does so."
      ]
    },
    {
      "cell_type": "code",
      "execution_count": null,
      "metadata": {
        "id": "Ur0s4m3kg3H-"
      },
      "outputs": [],
      "source": [
        "from sklearn.linear_model import LogisticRegression\n",
        "def log_reg_with_probs(train_X, train_Y, test_X, test_Y):\n",
        "    lr = LogisticRegression(random_state=42, max_iter=100)\n",
        "    lr.fit(train_X, train_Y)\n",
        "\n",
        "    y_probs = lr.predict_proba(test_X)[:, 1]\n",
        "\n",
        "    return y_probs"
      ]
    },
    {
      "cell_type": "code",
      "execution_count": null,
      "metadata": {
        "id": "Yoz2rt7F1O1H"
      },
      "outputs": [],
      "source": [
        "lr_probs = log_reg_with_probs(X_train, y_train, X_test, y_test)"
      ]
    },
    {
      "cell_type": "markdown",
      "metadata": {
        "id": "Xm0yv6wmDnQz"
      },
      "source": [
        "Now calculate the area under the receiver operator curve with your predictions."
      ]
    },
    {
      "cell_type": "code",
      "execution_count": null,
      "metadata": {
        "id": "0xRxhlqbcc-I"
      },
      "outputs": [],
      "source": [
        "from sklearn import metrics\n",
        "from sklearn.metrics import roc_curve, auc\n",
        "import matplotlib.pyplot as plt\n",
        "fpr, tpr, thresholds = roc_curve(y_test['Class'], lr_probs)\n",
        "roc_auc = auc(fpr, tpr)\n",
        "roc_auc"
      ]
    },
    {
      "cell_type": "markdown",
      "metadata": {
        "id": "w3hnQOGUczOn"
      },
      "source": [
        "Now graph the ROC curve using matplotlib, fully labeled."
      ]
    },
    {
      "cell_type": "code",
      "execution_count": null,
      "metadata": {
        "id": "JA-ieOGua55H"
      },
      "outputs": [],
      "source": [
        "import matplotlib.pyplot as plt\n",
        "\n",
        "plt.figure()\n",
        "plt.plot(fpr, tpr, color='blue', lw=2, label=f'ROC curve (AUC = {roc_auc:.2f})')\n",
        "plt.plot([0, 1], [0, 1], color='gray', lw=1, linestyle='--')\n",
        "plt.xlim([0.0, 1.0])\n",
        "plt.ylim([0.0, 1.05])\n",
        "plt.xlabel('False Positive Rate')\n",
        "plt.ylabel('True Positive Rate')\n",
        "plt.title('Receiver Operating Characteristic (ROC)')\n",
        "plt.legend(loc=\"lower right\")\n",
        "plt.show()"
      ]
    },
    {
      "cell_type": "markdown",
      "metadata": {
        "id": "5D4BtDZV6fxV"
      },
      "source": [
        "In conclusion, it looks like this model performed pretty bad. It's probably best to try out different columns or perhaps use a different model before we submit our model for scoring."
      ]
    },
    {
      "cell_type": "markdown",
      "metadata": {
        "id": "CWjYSzwR9eUj"
      },
      "source": [
        "# Our model\n"
      ]
    },
    {
      "cell_type": "code",
      "execution_count": null,
      "metadata": {
        "id": "cKu-NC7z9g-S"
      },
      "outputs": [],
      "source": [
        "data"
      ]
    },
    {
      "cell_type": "code",
      "execution_count": null,
      "metadata": {
        "id": "vRutzyQo9mq-"
      },
      "outputs": [],
      "source": [
        "import seaborn as sns\n",
        "#sns.heatmap(data.corr())\n",
        "\n",
        "correlation_matrix = data.corr()\n",
        "correlations_with_target = correlation_matrix[\"Class\"].sort_values(ascending=False)\n",
        "print(correlations_with_target)\n",
        "\n",
        "#FTI, TT4, T3, TSH\n"
      ]
    },
    {
      "cell_type": "markdown",
      "metadata": {
        "id": "L1JuGSrYC0_z"
      },
      "source": [
        "## pick relevant features\n"
      ]
    },
    {
      "cell_type": "code",
      "execution_count": null,
      "metadata": {
        "id": "YTvPLV1t-orA"
      },
      "outputs": [],
      "source": [
        "df = data[['FTI', 'TT4', 'T3', 'TSH', 'Class']]\n",
        "\n",
        "df.head()"
      ]
    },
    {
      "cell_type": "code",
      "execution_count": null,
      "metadata": {
        "id": "cbf0IZxX_bP-"
      },
      "outputs": [],
      "source": [
        "features = df[['FTI', 'TT4', 'T3', 'TSH']]\n",
        "normalized_features=(features-features.mean())/features.std()\n",
        "labels = df[['Class']]"
      ]
    },
    {
      "cell_type": "markdown",
      "metadata": {
        "id": "rs9Jp3XqC4JL"
      },
      "source": [
        "## normalize data"
      ]
    },
    {
      "cell_type": "code",
      "execution_count": null,
      "metadata": {
        "id": "OM87w1Rf_vlX"
      },
      "outputs": [],
      "source": [
        "normalized_features.head()"
      ]
    },
    {
      "cell_type": "code",
      "execution_count": null,
      "metadata": {
        "id": "Z08fl6le_xxn"
      },
      "outputs": [],
      "source": [
        "labels.head()"
      ]
    },
    {
      "cell_type": "code",
      "execution_count": null,
      "metadata": {
        "id": "JlOvx2mfAdLV"
      },
      "outputs": [],
      "source": [
        "X_train, X_test, y_train, y_test = train_test_split(normalized_features, labels, test_size=0.2, random_state=42)\n"
      ]
    },
    {
      "cell_type": "code",
      "execution_count": null,
      "metadata": {
        "id": "jqbDiXdQBXu0"
      },
      "outputs": [],
      "source": [
        "y_train"
      ]
    },
    {
      "cell_type": "markdown",
      "metadata": {
        "id": "s3AeZ5gTC7rr"
      },
      "source": [
        "## class imbalances"
      ]
    },
    {
      "cell_type": "code",
      "execution_count": null,
      "metadata": {
        "id": "8fbaqMs4BZoP"
      },
      "outputs": [],
      "source": [
        "from matplotlib import pyplot as plt\n",
        "y_train['Class'].plot(kind='hist', bins=20, title='Class')\n",
        "plt.gca().spines[['top', 'right',]].set_visible(False)"
      ]
    },
    {
      "cell_type": "markdown",
      "metadata": {
        "id": "Gy9K5f2cC-DN"
      },
      "source": [
        "## perform SMOTE to even out data set\n"
      ]
    },
    {
      "cell_type": "code",
      "execution_count": null,
      "metadata": {
        "id": "druB_BAnAPqm"
      },
      "outputs": [],
      "source": [
        "from imblearn.over_sampling import SMOTE\n",
        "smote = SMOTE(random_state=42)\n",
        "X_train_smote, y_train_smote = smote.fit_resample(X_train, y_train)\n",
        "X_test_smote, y_test_smote = smote.fit_resample(X_test, y_test)\n"
      ]
    },
    {
      "cell_type": "code",
      "execution_count": null,
      "metadata": {
        "id": "vcN8ayc5BQNb"
      },
      "outputs": [],
      "source": [
        "y_train_smote"
      ]
    },
    {
      "cell_type": "code",
      "execution_count": null,
      "metadata": {
        "id": "Z8K77P3aBTl8"
      },
      "outputs": [],
      "source": [
        "from matplotlib import pyplot as plt\n",
        "y_train_smote['Class'].plot(kind='hist', bins=20, title='Class')\n",
        "plt.gca().spines[['top', 'right',]].set_visible(False)"
      ]
    },
    {
      "cell_type": "markdown",
      "metadata": {
        "id": "4nzq2eApDCuy"
      },
      "source": [
        "## Create Random Forest model with and without SMOTE data\n",
        "\n",
        "\n"
      ]
    },
    {
      "cell_type": "code",
      "execution_count": null,
      "metadata": {
        "id": "e0LjSxklAtqv"
      },
      "outputs": [],
      "source": [
        "from sklearn.ensemble import RandomForestClassifier\n",
        "rf_model = RandomForestClassifier(n_estimators=100, random_state=42)\n",
        "rf_model.fit(X_train, y_train)\n",
        "y_pred = rf_model.predict(X_test)\n",
        "accuracy = accuracy_score(y_test, y_pred)\n",
        "accuracy"
      ]
    },
    {
      "cell_type": "code",
      "execution_count": null,
      "metadata": {
        "id": "z9vHOUy9A5ew"
      },
      "outputs": [],
      "source": [
        "from sklearn.ensemble import RandomForestClassifier\n",
        "rf_model_smote = RandomForestClassifier(n_estimators=100, random_state=42)\n",
        "rf_model_smote.fit(X_train_smote, y_train_smote)\n",
        "y_pred_smote = rf_model_smote.predict(X_test_smote)\n",
        "accuracy = accuracy_score(y_test_smote, y_pred_smote)\n",
        "accuracy\n",
        "\n",
        "#better accuracy"
      ]
    },
    {
      "cell_type": "code",
      "execution_count": null,
      "metadata": {
        "id": "_isyslFvDaMx"
      },
      "outputs": [],
      "source": [
        "from sklearn.ensemble import RandomForestClassifier\n",
        "from sklearn.metrics import accuracy_score\n",
        "import matplotlib.pyplot as plt\n",
        "import numpy as np\n",
        "import itertools\n",
        "\n",
        "# Define the plot_decision_boundary function\n",
        "def plot_decision_boundary(X, y, clf, title, xlabel, ylabel):\n",
        "    x_min, x_max = X[:, 0].min() - 1, X[:, 0].max() + 1\n",
        "    y_min, y_max = X[:, 1].min() - 1, X[:, 1].max() + 1\n",
        "    xx, yy = np.meshgrid(np.linspace(x_min, x_max, 300),\n",
        "                         np.linspace(y_min, y_max, 300))\n",
        "    Z = clf.predict(np.c_[xx.ravel(), yy.ravel()]).reshape(xx.shape)\n",
        "\n",
        "    plt.contourf(xx, yy, Z, alpha=0.3, cmap=plt.cm.RdYlBu)\n",
        "    scatter = plt.scatter(X[:, 0], X[:, 1], c=y, cmap=plt.cm.RdYlBu, edgecolor='k')\n",
        "    plt.title(title)\n",
        "    plt.xlabel(xlabel)\n",
        "    plt.ylabel(ylabel)\n",
        "    plt.grid(True)\n",
        "\n",
        "# Define the four features\n",
        "four_features = ['FTI', 'TSH', 'TT4', 'T3']\n",
        "\n",
        "# Get all unique pairwise combinations of the four features\n",
        "feature_pairs = list(itertools.combinations(four_features, 2))\n",
        "\n",
        "# Determine the number of rows and columns for the subplots\n",
        "n_pairs = len(feature_pairs)\n",
        "n_cols = 3  # You can adjust the number of columns as needed\n",
        "n_rows = (n_pairs + n_cols - 1) // n_cols\n",
        "\n",
        "plt.figure(figsize=(n_cols * 6, n_rows * 5))\n",
        "\n",
        "for i, (feat1, feat2) in enumerate(feature_pairs):\n",
        "    # Select features for the current pair\n",
        "    X_train_pair = X_train_smote[[feat1, feat2]]\n",
        "    X_test_pair = X_test_smote[[feat1, feat2]]\n",
        "\n",
        "    # Train a new Random Forest model on the current feature pair from SMOTE data\n",
        "    rf_model_pair = RandomForestClassifier(n_estimators=99, random_state=42)\n",
        "    rf_model_pair.fit(X_train_pair, y_train_smote.values.ravel())\n",
        "\n",
        "    # Make predictions using the pair-specific model\n",
        "    y_pred_pair = rf_model_pair.predict(X_test_pair)\n",
        "\n",
        "    # Plot the decision boundary\n",
        "    plt.subplot(n_rows, n_cols, i + 1)\n",
        "    plot_decision_boundary(X_test_pair.values, y_test_smote.values.flatten(), rf_model_pair,\n",
        "                           f\"SMOTE Decision Boundary ({feat1} vs {feat2})\",\n",
        "                           f\"{feat1} (Normalized)\", f\"{feat2} (Normalized)\")\n",
        "\n",
        "plt.tight_layout()\n",
        "plt.show()"
      ]
    },
    {
      "cell_type": "markdown",
      "metadata": {
        "id": "F2cglGZYDHOy"
      },
      "source": [
        "# Visualize one of the trees in random forest\n"
      ]
    },
    {
      "cell_type": "code",
      "execution_count": null,
      "metadata": {
        "id": "4BrUBIaCBrRW"
      },
      "outputs": [],
      "source": [
        "import graphviz\n",
        "from sklearn import tree\n",
        "individual_tree = rf_model.estimators_[0]\n",
        "dot_data = tree.export_graphviz(individual_tree, out_file=None, filled=True)\n",
        "\n",
        "graph = graphviz.Source(dot_data)\n",
        "graph"
      ]
    },
    {
      "cell_type": "markdown",
      "metadata": {
        "id": "fhXwyoB8EuXR"
      },
      "source": [
        "#Testing different number of Trees"
      ]
    },
    {
      "cell_type": "code",
      "execution_count": null,
      "metadata": {
        "id": "m48LqnYiExbb"
      },
      "outputs": [],
      "source": [
        "accuracies = []\n",
        "for i in range(1,100):\n",
        "  random_forest_smote = RandomForestClassifier(n_estimators=i, random_state = 42)\n",
        "  random_forest_smote.fit(X_train_smote, y_train_smote)\n",
        "  preds = random_forest_smote.predict(X_test_smote)\n",
        "  accuracies.append(accuracy_score(y_test_smote,preds))\n",
        "\n",
        "accuracies"
      ]
    },
    {
      "cell_type": "code",
      "execution_count": null,
      "metadata": {
        "id": "AFQSUXZnFC_z"
      },
      "outputs": [],
      "source": [
        "plt.plot(list(range(1, 100)), accuracies, marker='o')\n",
        "plt.title(\"Random Forest Accuracy vs Number of Trees\")\n",
        "plt.xlabel(\"Number of Trees\")\n",
        "plt.ylabel(\"Accuracy\")\n",
        "plt.grid(True)\n",
        "plt.show()\n"
      ]
    },
    {
      "cell_type": "code",
      "execution_count": null,
      "metadata": {
        "id": "p4ex0277F69O"
      },
      "outputs": [],
      "source": [
        "accuracies"
      ]
    },
    {
      "cell_type": "code",
      "execution_count": null,
      "metadata": {
        "id": "C4X7AxufFfBF"
      },
      "outputs": [],
      "source": [
        "import numpy as np\n",
        "max_index = np.argmax(accuracies)\n",
        "max_index1 = max_index +1\n",
        "max_index1"
      ]
    },
    {
      "cell_type": "code",
      "execution_count": null,
      "metadata": {
        "id": "cFizknqkG6CR"
      },
      "outputs": [],
      "source": [
        "from sklearn.ensemble import RandomForestClassifier\n",
        "rf_model_smote_final = RandomForestClassifier(\n",
        "    n_estimators=99,\n",
        "    random_state=42,\n",
        "    max_depth = 5,\n",
        "    min_samples_leaf = 10)\n",
        "\n",
        "\n",
        "rf_model_smote_final.fit(X_train_smote, y_train_smote)\n",
        "y_pred_smote = rf_model_smote_final.predict(X_test)\n",
        "accuracy = accuracy_score(y_test, y_pred)\n",
        "accuracy #98.32"
      ]
    },
    {
      "cell_type": "code",
      "execution_count": null,
      "metadata": {
        "id": "sBjHLrFdIXeB"
      },
      "outputs": [],
      "source": [
        "y_val_prob = rf_model_smote_final.predict_proba(X_test)\n",
        "\n",
        "fpr, tpr, thresholds = metrics.roc_curve(y_test, y_val_prob[:,1])\n",
        "roc_auc = metrics.auc(fpr, tpr)\n",
        "plt.figure(figsize=(6,6))\n",
        "lw = 2\n",
        "plt.plot(fpr, tpr, color='darkorange',\n",
        "         lw=lw, label='ROC curve (area = %0.5f)' % roc_auc)\n",
        "plt.plot([0, 1], [0, 1], color='navy', lw=lw, linestyle='--')\n",
        "plt.xlim([0.0, 1.0])\n",
        "plt.ylim([0.0, 1.0])\n",
        "plt.xlabel('False Positive Rate')\n",
        "plt.ylabel('True Positive Rate')\n",
        "plt.title('Receiver operating characteristic')\n",
        "plt.legend(loc=\"lower right\")\n",
        "plt.show()"
      ]
    },
    {
      "cell_type": "code",
      "source": [
        "from sklearn.metrics import ConfusionMatrixDisplay\n",
        "cm = confusion_matrix(y_test, y_pred)\n",
        "disp = ConfusionMatrixDisplay(confusion_matrix=cm, display_labels=[0,1])\n",
        "disp.plot(cmap=plt.cm.Blues)\n",
        "plt.show()"
      ],
      "metadata": {
        "id": "AZ4dTeNz6jFa"
      },
      "execution_count": null,
      "outputs": []
    },
    {
      "cell_type": "code",
      "execution_count": null,
      "metadata": {
        "id": "CBb4UB0UJOeW"
      },
      "outputs": [],
      "source": [
        "y_pred = rf_model_smote_final.predict(X_test)\n",
        "accuracy = accuracy_score(y_test, y_pred)\n",
        "accuracy"
      ]
    },
    {
      "cell_type": "code",
      "execution_count": null,
      "metadata": {
        "id": "58bb09f6"
      },
      "outputs": [],
      "source": [
        "from mpl_toolkits.mplot3d import Axes3D\n",
        "import matplotlib.pyplot as plt\n",
        "import numpy as np\n",
        "\n",
        "# Use the four selected features from your normalized and SMOTE data\n",
        "x = X_train_smote['FTI']\n",
        "y = X_train_smote['TSH']\n",
        "z = X_train_smote['TT4']\n",
        "w = X_train_smote['T3'] # The fourth dimension\n",
        "\n",
        "# Create a 3D figure and axes\n",
        "fig = plt.figure(figsize=(10, 8))\n",
        "ax = fig.add_subplot(111, projection='3d')\n",
        "\n",
        "# Create the 3D scatter plot with color mapping the 4th dimension\n",
        "scatter = ax.scatter(x, y, z, c=w, cmap='viridis', s=50, alpha=0.8)\n",
        "\n",
        "# Add a color bar to show the mapping of the 4th dimension\n",
        "cbar = fig.colorbar(scatter, shrink=0.5, aspect=10)\n",
        "cbar.set_label('T3 (Normalized)')\n",
        "\n",
        "# Set labels for the axes\n",
        "ax.set_xlabel('FTI (Normalized)')\n",
        "ax.set_ylabel('TSH (Normalized)')\n",
        "ax.set_zlabel('TT4 (Normalized)')\n",
        "ax.set_title('4D Scatter Plot of SMOTE Hypothyroid Data (Color-coded T3)')\n",
        "\n",
        "plt.show()"
      ]
    },
    {
      "cell_type": "markdown",
      "metadata": {
        "id": "5JW3myd8LHJy"
      },
      "source": [
        "# Submitting your Model"
      ]
    },
    {
      "cell_type": "markdown",
      "metadata": {
        "id": "Wuexs1daLNBY"
      },
      "source": [
        "Once you believe to have found the best classifier, run your classifier on the test data and make a pickle file containing of your predictions contained a pandas dataframe.\n",
        "\n",
        "This pandas dataframe will contain three columns for your binary classifier (or 5 columns for the multiclass classifier): the first column should be your model's \"best guess\" for each patient (either 0 or 1, negative or positive) and the last two columns should be the probability the patient would be classified as either a 0 or 1.\n",
        "\n",
        "(see below for reference)"
      ]
    },
    {
      "cell_type": "code",
      "execution_count": null,
      "metadata": {
        "id": "yQ3mLBo6Nxxj"
      },
      "outputs": [],
      "source": [
        "test_url = \"https://raw.githubusercontent.com/MedlyticsUniversal/Data/main/Week1/allhypo.test.csv\"\n",
        "\n",
        "test = pd.read_csv(test_url)\n",
        "\n",
        "test_1 = test[['FTI', 'TT4', 'T3', 'TSH']].copy()\n",
        "\n",
        "\n",
        "test_1 = test_1.replace(\"?\", np.nan)\n",
        "\n",
        "test_2 = test_1.apply(pd.to_numeric)\n",
        "test_3 = test_2.fillna(test_2.median())\n",
        "\n",
        "features = test_3[['FTI', 'TT4', 'T3', 'TSH']]\n",
        "test_5=(features-features.mean())/features.std()\n",
        "\n",
        "test_5"
      ]
    },
    {
      "cell_type": "code",
      "execution_count": null,
      "metadata": {
        "id": "HGQzvI4lPqmp"
      },
      "outputs": [],
      "source": [
        "rf_model_smote_final.predict_proba(test_5)\n",
        "\n"
      ]
    },
    {
      "cell_type": "code",
      "execution_count": null,
      "metadata": {
        "id": "ZxAb1fKrQ-Zc"
      },
      "outputs": [],
      "source": [
        "#make it picke\n",
        "import pandas as pd\n",
        "import pickle\n",
        "from google.colab import files\n",
        "\n",
        "pred_labels = rf_model_smote_final.predict(test_5)\n",
        "\n",
        "\n",
        "pred_probs = rf_model_smote_final.predict_proba(test_5)\n",
        "\n",
        "pred_df = pd.DataFrame({\n",
        "    'Predicted': pred_labels,\n",
        "    'Prob_0': pred_probs[:, 0],\n",
        "    'Prob_1': pred_probs[:, 1]\n",
        "})\n",
        "\n",
        "\n",
        "with open('predictions.pkl', 'wb') as f:\n",
        "    pickle.dump(pred_df, f)\n",
        "files.download('predictions.pkl')"
      ]
    },
    {
      "cell_type": "code",
      "execution_count": null,
      "metadata": {
        "id": "XeDhZc7CRiZV"
      },
      "outputs": [],
      "source": [
        "pred_df"
      ]
    },
    {
      "cell_type": "code",
      "execution_count": null,
      "metadata": {
        "id": "GkZOEgg3m3g1"
      },
      "outputs": [],
      "source": [
        "#pickling example\n",
        "\n",
        "import pickle\n",
        "predictions=po.DataFrame({\"guesses\":[0,1,0,1],\"prob_neg\":[.75,.15,.63,.20],\"prob_pos\":[.25,.85,.27,.80]})\n",
        "prediction_pickle_path = 'prediction_pickle.pkl'\n",
        "\n",
        "from google.colab import files\n",
        "# Create an variable to pickle and open it in write mode\n",
        "prediction_pickle = open(prediction_pickle_path, 'wb')\n",
        "pickle.dump(predictions, prediction_pickle)\n",
        "files.download(prediction_pickle_path)\n",
        "prediction_pickle.close()"
      ]
    },
    {
      "cell_type": "code",
      "execution_count": null,
      "metadata": {
        "id": "Dj6_AB6LnjrW"
      },
      "outputs": [],
      "source": [
        "prediction_unpickle = open(prediction_pickle_path, 'rb')\n",
        "\n",
        "# load the unpickle object into a variable\n",
        "predictions = pickle.load(prediction_unpickle)\n",
        "\n",
        "print(predictions)"
      ]
    },
    {
      "cell_type": "markdown",
      "metadata": {
        "id": "GW27RtFNttQA"
      },
      "source": [
        "# Scoring your Model"
      ]
    },
    {
      "cell_type": "markdown",
      "metadata": {
        "id": "iJdiisMerewv"
      },
      "source": [
        "\n",
        "**Area Under ROC Curve**: A receiver operating characteristic (ROC) curve plots the true positive rate (y) against the false positive rate (x) at many decision threshold settings (output < threshold = 0, output > threshold = 1). The area under this curve represents the probability that a classifier will rank a randomly chosen positive instance higher than a randomly chosen negative one.\n",
        "\n",
        "**Confusion Matrix**: You will receive a certain number of points for each correct classification and a certain point penalty for each incorrect classification. The points are weighted, and are designed to equate to 0 in a Zero Rule baseline model. This point scheme is designed to punish you heavily for predicting false positives (FP) and false negatives (FN)--FN cases especially. In doing so, we hope you see the importance of clinical considerations and treat your models from a more human perspective, rather than detached from it.\n",
        "\n",
        "**Real World Cost**: Similar to the confusion matrix, we want you to keep in mind the other aspects of healthcare analytics--in this case, economic feasibility. In essence, we want you to minimize the amount of time and money spent on data collection by reducing the number of features collected. Each record certainly required a lot of time and money from several individuals and businesses to reliably create, and we hope you gain a better understanding of conducting a useful cost-benefit analysis with this scoring method. The full details of the weighted features can be found in the GitHub."
      ]
    },
    {
      "cell_type": "markdown",
      "metadata": {
        "id": "w66lpbB6Qv_M"
      },
      "source": [
        "# Moving to the Next Level"
      ]
    },
    {
      "cell_type": "markdown",
      "metadata": {
        "id": "X-HZ12lht_so"
      },
      "source": [
        "For those that finish early, remember how I converted the class values into simply \"negative\" and \"positive\"? Now try tackling the multiclass classifier (predicting the different types of positive hypothyroid cases instead of simply negative or positive)!\n",
        "\n",
        "The same rules apply!"
      ]
    }
  ],
  "metadata": {
    "colab": {
      "collapsed_sections": [
        "HsZB_SGvp4mP",
        "sGKbG-eBqBjF",
        "F2cglGZYDHOy",
        "GW27RtFNttQA",
        "w66lpbB6Qv_M"
      ],
      "provenance": []
    },
    "kernelspec": {
      "display_name": "Python 3",
      "language": "python",
      "name": "python3"
    },
    "language_info": {
      "codemirror_mode": {
        "name": "ipython",
        "version": 3
      },
      "file_extension": ".py",
      "mimetype": "text/x-python",
      "name": "python",
      "nbconvert_exporter": "python",
      "pygments_lexer": "ipython3",
      "version": "3.7.3"
    }
  },
  "nbformat": 4,
  "nbformat_minor": 0
}