{
  "cells": [
    {
      "cell_type": "markdown",
      "metadata": {
        "id": "W0Y7OFtshbxi"
      },
      "source": [
        "# Emoji Classifier\n"
      ]
    },
    {
      "cell_type": "markdown",
      "metadata": {
        "id": "SYgxDvtmhel-"
      },
      "source": [
        "Goal: pick the best emoji to use based on words/phrases\n"
      ]
    },
    {
      "cell_type": "code",
      "execution_count": null,
      "metadata": {
        "id": "1_vmcDPD08WR"
      },
      "outputs": [],
      "source": [
        "#load\n",
        "import pandas as pd\n",
        "import matplotlib.pyplot as plt"
      ]
    },
    {
      "cell_type": "code",
      "execution_count": null,
      "metadata": {
        "colab": {
          "base_uri": "https://localhost:8080/"
        },
        "id": "lQ9gNr5g_7sR",
        "outputId": "81afca00-aa06-4847-fe72-01ef2270cc1c"
      },
      "outputs": [
        {
          "output_type": "stream",
          "name": "stdout",
          "text": [
            "Mounted at /content/drive\n"
          ]
        }
      ],
      "source": [
        "from google.colab import drive\n",
        "drive.mount('/content/drive', force_remount=True)"
      ]
    },
    {
      "cell_type": "markdown",
      "metadata": {
        "id": "zWgUX8QZhkV7"
      },
      "source": [
        "## Data\n"
      ]
    },
    {
      "cell_type": "markdown",
      "metadata": {
        "id": "Aiq2gQaV0k9V"
      },
      "source": [
        "Dataset from Hugging face\n",
        "80 - 10-10 train/val/test split\n",
        "\n",
        "6 classes of emotions/sentiment\n",
        "\n",
        "\n",
        "0.   Sadness\n",
        "1.   Joy\n",
        "2. Love\n",
        "3. Anger\n",
        "4. Fear\n",
        "5. Surprise\n",
        "\n",
        "\n"
      ]
    },
    {
      "cell_type": "markdown",
      "metadata": {
        "id": "puwgQefK97PS"
      },
      "source": [
        "### Fix Data Imbalance\n"
      ]
    },
    {
      "cell_type": "code",
      "execution_count": null,
      "metadata": {
        "collapsed": true,
        "id": "6ANG70rc0niU",
        "colab": {
          "base_uri": "https://localhost:8080/"
        },
        "outputId": "31ca6568-f106-4585-c7e2-725cdcfbc3bb"
      },
      "outputs": [
        {
          "output_type": "stream",
          "name": "stderr",
          "text": [
            "/usr/local/lib/python3.11/dist-packages/huggingface_hub/utils/_auth.py:94: UserWarning: \n",
            "The secret `HF_TOKEN` does not exist in your Colab secrets.\n",
            "To authenticate with the Hugging Face Hub, create a token in your settings tab (https://huggingface.co/settings/tokens), set it as secret in your Google Colab and restart your session.\n",
            "You will be able to reuse this secret in all of your notebooks.\n",
            "Please note that authentication is recommended but still optional to access public models or datasets.\n",
            "  warnings.warn(\n"
          ]
        }
      ],
      "source": [
        "splits = {'train': 'split/train-00000-of-00001.parquet', 'validation': 'split/validation-00000-of-00001.parquet', 'test': 'split/test-00000-of-00001.parquet'}\n",
        "df_1 = pd.read_parquet(\"hf://datasets/dair-ai/emotion/\" + splits[\"train\"])\n",
        "df_2 = pd.read_parquet(\"hf://datasets/dair-ai/emotion/\" + splits[\"validation\"])\n",
        "df_3 = pd.read_parquet(\"hf://datasets/dair-ai/emotion/\" + splits[\"test\"])\n",
        "df = pd.concat([df_1,df_2,df_3], axis = 0)"
      ]
    },
    {
      "cell_type": "code",
      "execution_count": null,
      "metadata": {
        "colab": {
          "base_uri": "https://localhost:8080/",
          "height": 499
        },
        "id": "7O8Rfg2IifjY",
        "outputId": "acbc7570-30d3-431a-a13a-a781175a77c4"
      },
      "outputs": [
        {
          "output_type": "execute_result",
          "data": {
            "text/plain": [
              "(array([5797.,    0., 6761.,    0., 1641.,    0., 2709.,    0., 2373.,\n",
              "         719.]),\n",
              " array([0. , 0.5, 1. , 1.5, 2. , 2.5, 3. , 3.5, 4. , 4.5, 5. ]),\n",
              " <BarContainer object of 10 artists>)"
            ]
          },
          "metadata": {},
          "execution_count": 4
        },
        {
          "output_type": "display_data",
          "data": {
            "text/plain": [
              "<Figure size 640x480 with 1 Axes>"
            ],
            "image/png": "[encoded data removed]"
          },
          "metadata": {}
        }
      ],
      "source": [
        "plt.hist(df['label'])"
      ]
    },
    {
      "cell_type": "code",
      "execution_count": null,
      "metadata": {
        "id": "tczE55M_AOOI"
      },
      "outputs": [],
      "source": [
        "love = pd.read_csv(\"/content/drive/MyDrive/emoji_classifier/csvs/love_messages_clean.csv\")\n",
        "fear = pd.read_csv(\"/content/drive/MyDrive/emoji_classifier/csvs/fear_messages_clean.csv\")\n",
        "anger = pd.read_csv(\"/content/drive/MyDrive/emoji_classifier/csvs/anger_messages_clean.csv\")\n",
        "surprise = pd.read_csv(\"/content/drive/MyDrive/emoji_classifier/csvs/surprise_messages_clean.csv\")"
      ]
    },
    {
      "cell_type": "code",
      "execution_count": null,
      "metadata": {
        "id": "ZPb-JSKSh5qP"
      },
      "outputs": [],
      "source": [
        "df = pd.concat([df, love, fear, surprise,anger], axis = 0)\n",
        "df = df.sample(frac = 1)"
      ]
    },
    {
      "cell_type": "markdown",
      "metadata": {
        "id": "PZI3eR279-hu"
      },
      "source": [
        "### Train-val-test split\n"
      ]
    },
    {
      "cell_type": "code",
      "execution_count": null,
      "metadata": {
        "id": "RgsttYvW7CHZ"
      },
      "outputs": [],
      "source": [
        "from sklearn.model_selection import train_test_split\n",
        "\n",
        "X = df['text']\n",
        "y = df['label']\n",
        "X_train, X_test, y_train, y_test = train_test_split(X, y, test_size=0.2, random_state=42)\n",
        "X_test, X_val, y_test, y_val = train_test_split(X_test, y_test, test_size=0.5, random_state=42)"
      ]
    },
    {
      "cell_type": "markdown",
      "metadata": {
        "id": "EeefVjZFiT4F"
      },
      "source": [
        "## Word Processing\n"
      ]
    },
    {
      "cell_type": "markdown",
      "metadata": {
        "id": "ANQQ3p1114AK"
      },
      "source": [
        "### Remove stop words\n"
      ]
    },
    {
      "cell_type": "code",
      "execution_count": null,
      "metadata": {
        "colab": {
          "base_uri": "https://localhost:8080/"
        },
        "collapsed": true,
        "id": "p97Mad5-17ag",
        "outputId": "c8bc7351-3dae-4283-8f18-e04c8458ca08"
      },
      "outputs": [
        {
          "output_type": "stream",
          "name": "stderr",
          "text": [
            "[nltk_data] Downloading package stopwords to /root/nltk_data...\n",
            "[nltk_data]   Package stopwords is already up-to-date!\n",
            "[nltk_data] Downloading package punkt to /root/nltk_data...\n",
            "[nltk_data]   Package punkt is already up-to-date!\n",
            "[nltk_data] Downloading package punkt_tab to /root/nltk_data...\n",
            "[nltk_data]   Package punkt_tab is already up-to-date!\n",
            "[nltk_data] Downloading package wordnet to /root/nltk_data...\n",
            "[nltk_data]   Package wordnet is already up-to-date!\n",
            "[nltk_data] Downloading package omw-1.4 to /root/nltk_data...\n",
            "[nltk_data]   Package omw-1.4 is already up-to-date!\n"
          ]
        }
      ],
      "source": [
        "import nltk\n",
        "nltk.download('stopwords')\n",
        "nltk.download('punkt')\n",
        "nltk.download('punkt_tab')\n",
        "nltk.download('wordnet')\n",
        "nltk.download('omw-1.4')\n",
        "from nltk.corpus import stopwords\n",
        "from nltk.tokenize import word_tokenize\n",
        "\n",
        "stopwords = set(stopwords.words('english'))"
      ]
    },
    {
      "cell_type": "code",
      "execution_count": null,
      "metadata": {
        "id": "RX1Twzcy3o0a"
      },
      "outputs": [],
      "source": [
        "def remove_stop_words(phrase):\n",
        "    word_tokens = word_tokenize(phrase)\n",
        "    filtered_words = [w for w in word_tokens if w.lower() not in stopwords]\n",
        "    return \" \".join(filtered_words)"
      ]
    },
    {
      "cell_type": "code",
      "execution_count": null,
      "metadata": {
        "id": "AM_vRqIp6FVW"
      },
      "outputs": [],
      "source": [
        "df_train_cleaned = X_train\n",
        "df_val_cleaned = X_val\n",
        "df_test_cleaned = X_test\n",
        "\n",
        "for i in range(len(X_train)):\n",
        "  df_train_cleaned.iloc[i] = remove_stop_words(X_train.iloc[i])\n",
        "for i in range(len(X_val)):\n",
        "  df_val_cleaned.iloc[i] = remove_stop_words(X_val.iloc[i])\n",
        "for i in range(len(X_test)):\n",
        "  df_test_cleaned.iloc[i] = remove_stop_words(X_test.iloc[i])"
      ]
    },
    {
      "cell_type": "markdown",
      "metadata": {
        "id": "48AxvOKj17nc"
      },
      "source": [
        "### Vectorization\n"
      ]
    },
    {
      "cell_type": "code",
      "execution_count": null,
      "metadata": {
        "id": "XMURn_A5AYuM"
      },
      "outputs": [],
      "source": [
        "from sklearn.feature_extraction.text import TfidfVectorizer\n",
        "\n",
        "vectorizer = TfidfVectorizer(max_features=5000)\n",
        "X_train = vectorizer.fit_transform(df_train_cleaned)\n",
        "X_val = vectorizer.transform(df_val_cleaned)\n",
        "X_test = vectorizer.transform(df_test_cleaned)"
      ]
    },
    {
      "cell_type": "markdown",
      "metadata": {
        "id": "xEV5Xy1CicSP"
      },
      "source": [
        "## Logistic Regression Model\n"
      ]
    },
    {
      "cell_type": "code",
      "execution_count": null,
      "metadata": {
        "colab": {
          "base_uri": "https://localhost:8080/"
        },
        "id": "l6hyicvoA2AT",
        "outputId": "e890c991-9c10-4dcc-fb1b-da99fea6f150"
      },
      "outputs": [
        {
          "output_type": "execute_result",
          "data": {
            "text/plain": [
              "0.9316666666666666"
            ]
          },
          "metadata": {},
          "execution_count": 11
        }
      ],
      "source": [
        "from sklearn.linear_model import LogisticRegression\n",
        "from sklearn.metrics import classification_report\n",
        "from sklearn.metrics import accuracy_score\n",
        "\n",
        "model = LogisticRegression(max_iter=1000)\n",
        "model.fit(X_train, y_train)\n",
        "\n",
        "y_pred = model.predict(X_val)\n",
        "\n",
        "accuracy_score(y_val, y_pred)"
      ]
    },
    {
      "cell_type": "markdown",
      "metadata": {
        "id": "qZyutIaz9Qen"
      },
      "source": [
        "## Rf\n"
      ]
    },
    {
      "cell_type": "code",
      "execution_count": null,
      "metadata": {
        "colab": {
          "base_uri": "https://localhost:8080/"
        },
        "id": "sJ3UT4xH8C4E",
        "outputId": "ae13bf03-4ee4-418f-e189-7654c08eaf99"
      },
      "outputs": [
        {
          "output_type": "execute_result",
          "data": {
            "text/plain": [
              "0.7366666666666667"
            ]
          },
          "metadata": {},
          "execution_count": 12
        }
      ],
      "source": [
        "from sklearn.ensemble import RandomForestClassifier\n",
        "\n",
        "model1 = RandomForestClassifier(n_estimators = 100, max_depth = 40, min_samples_leaf= 10, random_state = 15)\n",
        "model1.fit(X_train,y_train)\n",
        "\n",
        "y_pred = model1.predict(X_val)\n",
        "\n",
        "accuracy_score(y_val, y_pred)"
      ]
    },
    {
      "cell_type": "code",
      "execution_count": null,
      "metadata": {
        "colab": {
          "base_uri": "https://localhost:8080/"
        },
        "id": "m0Ru98RF8wjj",
        "outputId": "96616364-b50e-4d71-967c-21fdc3d6c813"
      },
      "outputs": [
        {
          "output_type": "stream",
          "name": "stdout",
          "text": [
            "0.7522222222222222\n",
            "0.7626736111111111\n"
          ]
        }
      ],
      "source": [
        "print(accuracy_score(y_test, model1.predict(X_test)))\n",
        "print(accuracy_score(y_train, model1.predict(X_train)))"
      ]
    },
    {
      "cell_type": "markdown",
      "metadata": {
        "id": "daLxW6OGrpzt"
      },
      "source": [
        "### RNN\n"
      ]
    },
    {
      "cell_type": "code",
      "execution_count": null,
      "metadata": {
        "id": "7xc95FuYrrWk"
      },
      "outputs": [],
      "source": [
        "import numpy as np\n",
        "\n",
        "import tensorflow_datasets as tfds\n",
        "import tensorflow as tf\n",
        "\n",
        "tfds.disable_progress_bar()\n"
      ]
    },
    {
      "cell_type": "code",
      "execution_count": null,
      "metadata": {
        "id": "DUEd31ZHsW-K"
      },
      "outputs": [],
      "source": [
        "X = df['text']\n",
        "y = df['label']\n",
        "X_train, X_test, y_train, y_test = train_test_split(X, y, test_size=0.2, random_state=42)\n",
        "\n",
        "train = pd.concat([X_train, y_train], axis = 1)\n",
        "test = pd.concat([X_test, y_test], axis = 1)\n",
        "\n",
        "train = tf.data.Dataset.from_tensor_slices((X_train, y_train))\n",
        "test = tf.data.Dataset.from_tensor_slices((X_test, y_test))\n"
      ]
    },
    {
      "cell_type": "code",
      "execution_count": null,
      "metadata": {
        "id": "GmNXtp9Lrzo3"
      },
      "outputs": [],
      "source": [
        "import matplotlib.pyplot as plt\n",
        "\n",
        "\n",
        "def plot_graphs(history, metric):\n",
        "  plt.plot(history.history[metric])\n",
        "  plt.plot(history.history['val_'+metric], '')\n",
        "  plt.xlabel(\"Epochs\")\n",
        "  plt.ylabel(metric)\n",
        "  plt.legend([metric, 'val_'+metric])"
      ]
    },
    {
      "cell_type": "code",
      "execution_count": null,
      "metadata": {
        "id": "EWeCJPher2Py"
      },
      "outputs": [],
      "source": [
        "BUFFER_SIZE = 10000\n",
        "BATCH_SIZE = 64\n",
        "\n",
        "train_dataset = train.shuffle(BUFFER_SIZE).batch(BATCH_SIZE).prefetch(tf.data.AUTOTUNE)\n",
        "test_dataset = test.batch(BATCH_SIZE).prefetch(tf.data.AUTOTUNE)"
      ]
    },
    {
      "cell_type": "code",
      "execution_count": null,
      "metadata": {
        "id": "7lYX219zsJWi"
      },
      "outputs": [],
      "source": [
        "VOCAB_SIZE = 100000\n",
        "encoder = tf.keras.layers.TextVectorization(\n",
        "    max_tokens=VOCAB_SIZE)\n",
        "encoder.adapt(train_dataset.map(lambda text, label: text))"
      ]
    },
    {
      "cell_type": "code",
      "execution_count": null,
      "metadata": {
        "colab": {
          "base_uri": "https://localhost:8080/"
        },
        "id": "3AnEb2ZzsJyg",
        "outputId": "8e2baaf5-8591-47e1-d6ec-a537a96f2923"
      },
      "outputs": [
        {
          "output_type": "execute_result",
          "data": {
            "text/plain": [
              "array(['', '[UNK]', 'i', 'feel', 'and', 'to', 'the', 'a', 'that', 'my',\n",
              "       'of', 'feeling', 'im', 'in', 'me', 'like', 'this', 'so', 'is',\n",
              "       'it'], dtype='<U74')"
            ]
          },
          "metadata": {},
          "execution_count": 17
        }
      ],
      "source": [
        "vocab = np.array(encoder.get_vocabulary())\n",
        "vocab[:20]"
      ]
    },
    {
      "cell_type": "code",
      "execution_count": null,
      "metadata": {
        "id": "cGzh_pESvIp7"
      },
      "outputs": [],
      "source": [
        "model = tf.keras.Sequential([\n",
        "    encoder,\n",
        "    tf.keras.layers.Embedding(\n",
        "        input_dim=len(encoder.get_vocabulary()),\n",
        "        output_dim=64,\n",
        "        mask_zero=True),\n",
        "    tf.keras.layers.Bidirectional(tf.keras.layers.LSTM(64, return_sequences=True)),\n",
        "    tf.keras.layers.GlobalAveragePooling1D(),\n",
        "    tf.keras.layers.Dense(64, activation='relu',\n",
        "                          kernel_regularizer=tf.keras.regularizers.l2(0.01)),\n",
        "    tf.keras.layers.Dropout(0.3),\n",
        "    tf.keras.layers.Dense(6, activation='softmax')\n",
        "])"
      ]
    },
    {
      "cell_type": "code",
      "execution_count": null,
      "metadata": {
        "id": "z36VQyg6vRUG"
      },
      "outputs": [],
      "source": [
        "model.compile(loss=tf.keras.losses.SparseCategoricalCrossentropy(from_logits=False),\n",
        "              optimizer=tf.keras.optimizers.Adam(1e-4),\n",
        "              metrics=['accuracy'])"
      ]
    },
    {
      "cell_type": "code",
      "execution_count": null,
      "metadata": {
        "colab": {
          "base_uri": "https://localhost:8080/"
        },
        "id": "aWRkqJvo0y6P",
        "outputId": "19151a0d-d49f-4dab-fe2e-f1a665260449"
      },
      "outputs": [
        {
          "output_type": "stream",
          "name": "stdout",
          "text": [
            "texts:  [b'didnt see that one coming at all'\n",
            " b'i feel that time frame is going properly i m keen on you plenty probably we could repeat this once more and then the lady may possibly grin at you as well as claim the girl loves as well'\n",
            " b'im so grateful for your love']\n",
            "\n",
            "labels:  [5 1 2]\n"
          ]
        }
      ],
      "source": [
        "for example, label in train_dataset.take(1):\n",
        "  print('texts: ', example.numpy()[:3])\n",
        "  print()\n",
        "  print('labels: ', label.numpy()[:3])"
      ]
    },
    {
      "cell_type": "code",
      "execution_count": null,
      "metadata": {
        "colab": {
          "base_uri": "https://localhost:8080/"
        },
        "id": "EwqY7vBBvcmC",
        "outputId": "c506c24d-d444-475c-eb98-110c6ab27968"
      },
      "outputs": [
        {
          "output_type": "stream",
          "name": "stdout",
          "text": [
            "Epoch 1/10\n",
            "\u001b[1m450/450\u001b[0m \u001b[32m━━━━━━━━━━━━━━━━━━━━\u001b[0m\u001b[37m\u001b[0m \u001b[1m67s\u001b[0m 128ms/step - accuracy: 0.3540 - loss: 2.4736 - val_accuracy: 0.5505 - val_loss: 1.7515\n",
            "Epoch 2/10\n",
            "\u001b[1m450/450\u001b[0m \u001b[32m━━━━━━━━━━━━━━━━━━━━\u001b[0m\u001b[37m\u001b[0m \u001b[1m82s\u001b[0m 181ms/step - accuracy: 0.5779 - loss: 1.6134 - val_accuracy: 0.6411 - val_loss: 1.2036\n",
            "Epoch 3/10\n",
            "\u001b[1m450/450\u001b[0m \u001b[32m━━━━━━━━━━━━━━━━━━━━\u001b[0m\u001b[37m\u001b[0m \u001b[1m74s\u001b[0m 163ms/step - accuracy: 0.6377 - loss: 1.1770 - val_accuracy: 0.6646 - val_loss: 1.0209\n",
            "Epoch 4/10\n",
            "\u001b[1m450/450\u001b[0m \u001b[32m━━━━━━━━━━━━━━━━━━━━\u001b[0m\u001b[37m\u001b[0m \u001b[1m83s\u001b[0m 184ms/step - accuracy: 0.6640 - loss: 1.0050 - val_accuracy: 0.7245 - val_loss: 0.8769\n",
            "Epoch 5/10\n",
            "\u001b[1m450/450\u001b[0m \u001b[32m━━━━━━━━━━━━━━━━━━━━\u001b[0m\u001b[37m\u001b[0m \u001b[1m61s\u001b[0m 135ms/step - accuracy: 0.7380 - loss: 0.8268 - val_accuracy: 0.7781 - val_loss: 0.7471\n",
            "Epoch 6/10\n",
            "\u001b[1m450/450\u001b[0m \u001b[32m━━━━━━━━━━━━━━━━━━━━\u001b[0m\u001b[37m\u001b[0m \u001b[1m73s\u001b[0m 115ms/step - accuracy: 0.8135 - loss: 0.6650 - val_accuracy: 0.8401 - val_loss: 0.6345\n",
            "Epoch 7/10\n",
            "\u001b[1m450/450\u001b[0m \u001b[32m━━━━━━━━━━━━━━━━━━━━\u001b[0m\u001b[37m\u001b[0m \u001b[1m48s\u001b[0m 107ms/step - accuracy: 0.8779 - loss: 0.5296 - val_accuracy: 0.8760 - val_loss: 0.5439\n",
            "Epoch 8/10\n",
            "\u001b[1m450/450\u001b[0m \u001b[32m━━━━━━━━━━━━━━━━━━━━\u001b[0m\u001b[37m\u001b[0m \u001b[1m57s\u001b[0m 127ms/step - accuracy: 0.9195 - loss: 0.4165 - val_accuracy: 0.8891 - val_loss: 0.4842\n",
            "Epoch 9/10\n",
            "\u001b[1m450/450\u001b[0m \u001b[32m━━━━━━━━━━━━━━━━━━━━\u001b[0m\u001b[37m\u001b[0m \u001b[1m82s\u001b[0m 182ms/step - accuracy: 0.9410 - loss: 0.3380 - val_accuracy: 0.8943 - val_loss: 0.4439\n",
            "Epoch 10/10\n",
            "\u001b[1m450/450\u001b[0m \u001b[32m━━━━━━━━━━━━━━━━━━━━\u001b[0m\u001b[37m\u001b[0m \u001b[1m49s\u001b[0m 108ms/step - accuracy: 0.9497 - loss: 0.2913 - val_accuracy: 0.9016 - val_loss: 0.4422\n"
          ]
        }
      ],
      "source": [
        "history = model.fit(train_dataset, epochs=10,\n",
        "                    validation_data=test_dataset,\n",
        "                    validation_steps=30)\n"
      ]
    },
    {
      "cell_type": "code",
      "source": [
        "from google.colab import files\n",
        "model.save('emoji_classifier_rnn_model.keras')\n",
        "files.download(\"emoji_classifier_rnn_model.keras\")"
      ],
      "metadata": {
        "colab": {
          "base_uri": "https://localhost:8080/",
          "height": 17
        },
        "id": "JSdnMIEmMpvE",
        "outputId": "150f4068-40df-4cad-b24f-ced88be6012f"
      },
      "execution_count": null,
      "outputs": [
        {
          "output_type": "display_data",
          "data": {
            "text/plain": [
              "<IPython.core.display.Javascript object>"
            ],
            "application/javascript": [
              "\n",
              "    async function download(id, filename, size) {\n",
              "      if (!google.colab.kernel.accessAllowed) {\n",
              "        return;\n",
              "      }\n",
              "      const div = document.createElement('div');\n",
              "      const label = document.createElement('label');\n",
              "      label.textContent = `Downloading \"${filename}\": `;\n",
              "      div.appendChild(label);\n",
              "      const progress = document.createElement('progress');\n",
              "      progress.max = size;\n",
              "      div.appendChild(progress);\n",
              "      document.body.appendChild(div);\n",
              "\n",
              "      const buffers = [];\n",
              "      let downloaded = 0;\n",
              "\n",
              "      const channel = await google.colab.kernel.comms.open(id);\n",
              "      // Send a message to notify the kernel that we're ready.\n",
              "      channel.send({})\n",
              "\n",
              "      for await (const message of channel.messages) {\n",
              "        // Send a message to notify the kernel that we're ready.\n",
              "        channel.send({})\n",
              "        if (message.buffers) {\n",
              "          for (const buffer of message.buffers) {\n",
              "            buffers.push(buffer);\n",
              "            downloaded += buffer.byteLength;\n",
              "            progress.value = downloaded;\n",
              "          }\n",
              "        }\n",
              "      }\n",
              "      const blob = new Blob(buffers, {type: 'application/binary'});\n",
              "      const a = document.createElement('a');\n",
              "      a.href = window.URL.createObjectURL(blob);\n",
              "      a.download = filename;\n",
              "      div.appendChild(a);\n",
              "      a.click();\n",
              "      div.remove();\n",
              "    }\n",
              "  "
            ]
          },
          "metadata": {}
        },
        {
          "output_type": "display_data",
          "data": {
            "text/plain": [
              "<IPython.core.display.Javascript object>"
            ],
            "application/javascript": [
              "download(\"download_cbb9e08a-7d78-4050-98a9-8ecbe8b919c6\", \"emoji_classifier_rnn_model.keras\", 12921369)"
            ]
          },
          "metadata": {}
        }
      ]
    },
    {
      "cell_type": "code",
      "execution_count": null,
      "metadata": {
        "colab": {
          "base_uri": "https://localhost:8080/"
        },
        "id": "AwTqWtPwveo2",
        "outputId": "0f615283-63f3-4201-eea6-506acad2887f"
      },
      "outputs": [
        {
          "output_type": "stream",
          "name": "stdout",
          "text": [
            "\u001b[1m113/113\u001b[0m \u001b[32m━━━━━━━━━━━━━━━━━━━━\u001b[0m\u001b[37m\u001b[0m \u001b[1m5s\u001b[0m 46ms/step - accuracy: 0.8992 - loss: 0.4389\n",
            "Test Loss: 0.4465661346912384\n",
            "Test Accuracy: 0.894444465637207\n"
          ]
        }
      ],
      "source": [
        "test_loss, test_acc = model.evaluate(test_dataset)\n",
        "\n",
        "print('Test Loss:', test_loss)\n",
        "print('Test Accuracy:', test_acc)"
      ]
    },
    {
      "cell_type": "code",
      "execution_count": null,
      "metadata": {
        "colab": {
          "base_uri": "https://localhost:8080/",
          "height": 362
        },
        "id": "6YaK0iQpvfsB",
        "outputId": "53582d8d-b9e6-4c1f-db1a-10b002a0e76f"
      },
      "outputs": [
        {
          "output_type": "execute_result",
          "data": {
            "text/plain": [
              "(0.0, 2.3633506491780283)"
            ]
          },
          "metadata": {},
          "execution_count": 25
        },
        {
          "output_type": "display_data",
          "data": {
            "text/plain": [
              "<Figure size 1600x800 with 2 Axes>"
            ],
            "image/png": "[encoded data removed]"
          },
          "metadata": {}
        }
      ],
      "source": [
        "plt.figure(figsize=(16, 8))\n",
        "plt.subplot(1, 2, 1)\n",
        "plot_graphs(history, 'accuracy')\n",
        "plt.ylim(None, 1)\n",
        "plt.subplot(1, 2, 2)\n",
        "plot_graphs(history, 'loss')\n",
        "plt.ylim(0, None)"
      ]
    },
    {
      "cell_type": "code",
      "execution_count": null,
      "metadata": {
        "id": "EBa8QZoHG02E"
      },
      "outputs": [],
      "source": [
        "def preprocessing(word):\n",
        "  word_v = vectorizer.transform([word])\n",
        "  return word_v"
      ]
    },
    {
      "cell_type": "code",
      "execution_count": null,
      "metadata": {
        "id": "6J4xpZxjLEIV"
      },
      "outputs": [],
      "source": [
        "import random\n",
        "from PIL import Image\n",
        "def emojify(label):\n",
        "  random_emoji = random.randint(0, 2)\n",
        "  match label:\n",
        "    case 0:\n",
        "      match random_emoji:\n",
        "        case 0:\n",
        "          img = Image.open('/content/drive/MyDrive/emoji_classifier/emojis/pensive.png')\n",
        "        case 1:\n",
        "          img = Image.open('/content/drive/MyDrive/emoji_classifier/emojis/cry.png')\n",
        "        case 2:\n",
        "          img = Image.open('/content/drive/MyDrive/emoji_classifier/emojis/sob.png')\n",
        "    case 1:\n",
        "      match random_emoji:\n",
        "        case 0:\n",
        "          img = Image.open('/content/drive/MyDrive/emoji_classifier/emojis/smile.png')\n",
        "        case 1:\n",
        "          img = Image.open('/content/drive/MyDrive/emoji_classifier/emojis/hugging_face.png')\n",
        "        case 2:\n",
        "          img = Image.open('/content/drive/MyDrive/emoji_classifier/emojis/Omar.png')\n",
        "    case 2:\n",
        "      match random_emoji:\n",
        "        case 0:\n",
        "          img = Image.open('/content/drive/MyDrive/emoji_classifier/emojis/smiling_face_with_three_hearts.png')\n",
        "        case 1:\n",
        "          img = Image.open('/content/drive/MyDrive/emoji_classifier/emojis/heart_eyes.png')\n",
        "        case 2:\n",
        "          img = Image.open('/content/drive/MyDrive/emoji_classifier/emojis/heart.png')\n",
        "    case 3:\n",
        "      match random_emoji:\n",
        "        case 0:\n",
        "          img = Image.open('/content/drive/MyDrive/emoji_classifier/emojis/angry.png')\n",
        "        case 1:\n",
        "          img = Image.open('/content/drive/MyDrive/emoji_classifier/emojis/rage.png')\n",
        "        case 2:\n",
        "          img = Image.open('/content/drive/MyDrive/emoji_classifier/emojis/imp.png')\n",
        "    case 4:\n",
        "      match random_emoji:\n",
        "        case 0:\n",
        "          img = Image.open('/content/drive/MyDrive/emoji_classifier/emojis/fearful.png')\n",
        "        case 1:\n",
        "          img = Image.open('/content/drive/MyDrive/emoji_classifier/emojis/scream.png')\n",
        "        case 2:\n",
        "          img = Image.open('/content/drive/MyDrive/emoji_classifier/emojis/grimacing.png')\n",
        "    case 5:\n",
        "      match random_emoji:\n",
        "        case 0:\n",
        "          img = Image.open('/content/drive/MyDrive/emoji_classifier/emojis/open_mouth.png')\n",
        "        case 1:\n",
        "          img = Image.open('/content/drive/MyDrive/emoji_classifier/emojis/face_with_hand_over_mouth.png')\n",
        "        case 2:\n",
        "          img = Image.open('/content/drive/MyDrive/emoji_classifier/emojis/speak_no_evil.png')\n",
        "  plt.figure(figsize=(0.2, 0.2))\n",
        "  plt.imshow(img)\n",
        "  plt.axis('off')\n",
        "  plt.show()"
      ]
    },
    {
      "cell_type": "code",
      "execution_count": null,
      "metadata": {
        "colab": {
          "base_uri": "https://localhost:8080/"
        },
        "id": "HUXmqQZkGlQM",
        "outputId": "67e220c9-2fc9-4bad-ca3b-1d141e8b8b69"
      },
      "outputs": [
        {
          "output_type": "stream",
          "name": "stdout",
          "text": [
            "Enter some text: I am so happy\n",
            "You entered: I am so happy\n"
          ]
        }
      ],
      "source": [
        "user_input = input(\"Enter some text: \")\n",
        "print(\"You entered:\", user_input)"
      ]
    },
    {
      "cell_type": "code",
      "execution_count": null,
      "metadata": {
        "colab": {
          "base_uri": "https://localhost:8080/",
          "height": 69
        },
        "id": "cp3BXwppI-nm",
        "outputId": "af5fab22-adf8-4745-dac4-6696c5b24ba3"
      },
      "outputs": [
        {
          "output_type": "stream",
          "name": "stdout",
          "text": [
            "\u001b[1m1/1\u001b[0m \u001b[32m━━━━━━━━━━━━━━━━━━━━\u001b[0m\u001b[37m\u001b[0m \u001b[1m0s\u001b[0m 158ms/step\n"
          ]
        },
        {
          "output_type": "display_data",
          "data": {
            "text/plain": [
              "<Figure size 20x20 with 1 Axes>"
            ],
            "image/png": "[encoded data removed]"
          },
          "metadata": {}
        }
      ],
      "source": [
        "def predict_user_input(text):\n",
        "    # Wrap in a batch\n",
        "    input_tensor = tf.constant([text])\n",
        "    prediction = model.predict(input_tensor)\n",
        "    predicted_class = np.argmax(prediction[0])\n",
        "    emojify(predicted_class)\n",
        "\n",
        "predict_user_input(user_input)"
      ]
    },
    {
      "cell_type": "code",
      "source": [
        "y_pred = model.predict(test_dataset)"
      ],
      "metadata": {
        "colab": {
          "base_uri": "https://localhost:8080/"
        },
        "id": "6ux_tKGuPNND",
        "outputId": "93ae6c63-c04e-4212-be7b-5ceb007f3eb7"
      },
      "execution_count": null,
      "outputs": [
        {
          "output_type": "stream",
          "name": "stdout",
          "text": [
            "\u001b[1m113/113\u001b[0m \u001b[32m━━━━━━━━━━━━━━━━━━━━\u001b[0m\u001b[37m\u001b[0m \u001b[1m5s\u001b[0m 38ms/step\n"
          ]
        }
      ]
    },
    {
      "cell_type": "code",
      "source": [
        "import random\n",
        "from PIL import Image\n",
        "def emojify_test(label):\n",
        "  random_emoji = random.randint(0, 2)\n",
        "  match label:\n",
        "    case 0:\n",
        "      img = Image.open('/content/drive/MyDrive/emoji_classifier/emojis/sob.png')\n",
        "    case 1:\n",
        "      img = Image.open('/content/drive/MyDrive/emoji_classifier/emojis/smile.png')\n",
        "    case 2:\n",
        "      img = Image.open('/content/drive/MyDrive/emoji_classifier/emojis/heart.png')\n",
        "    case 3:\n",
        "      img = Image.open('/content/drive/MyDrive/emoji_classifier/emojis/rage.png')\n",
        "    case 4:\n",
        "      img = Image.open('/content/drive/MyDrive/emoji_classifier/emojis/scream.png')\n",
        "    case 5:\n",
        "      img = Image.open('/content/drive/MyDrive/emoji_classifier/emojis/open_mouth.png')\n",
        "  plt.figure(figsize=(0.2, 0.2))\n",
        "  plt.imshow(img)\n",
        "  plt.axis('off')\n",
        "  plt.show()"
      ],
      "metadata": {
        "id": "WsJORHK-TQ1Z"
      },
      "execution_count": null,
      "outputs": []
    },
    {
      "cell_type": "code",
      "source": [
        "for batch in test_dataset:\n",
        "  inputs, labels = batch\n",
        "  for i in range(labels.shape[0]):\n",
        "    predicted_class = np.argmax(y_pred[i])\n",
        "    print(f\"Input text (raw): {X_test.iloc[i]}\")\n",
        "    print(f\"Predicted label: {predicted_class}\")\n",
        "    print(f\"True label: {labels[i].numpy()}\")\n",
        "    emojify_test(predicted_class)\n",
        "    emojify_test(labels[i].numpy())"
      ],
      "metadata": {
        "colab": {
          "base_uri": "https://localhost:8080/",
          "height": 245
        },
        "id": "e406OJd7QcO8",
        "outputId": "b6a1a43d-bdb2-4a19-ac62-900c81d137f7"
      },
      "execution_count": null,
      "outputs": [
        {
          "output_type": "stream",
          "name": "stdout",
          "text": [
            "Input text (raw): i spent saturday night and all of sunday feeling pretty lousy\n",
            "Predicted label: 0\n",
            "True label: 0\n"
          ]
        },
        {
          "output_type": "error",
          "ename": "NameError",
          "evalue": "name 'emojify_test' is not defined",
          "traceback": [
            "\u001b[0;31m---------------------------------------------------------------------------\u001b[0m",
            "\u001b[0;31mNameError\u001b[0m                                 Traceback (most recent call last)",
            "\u001b[0;32m/tmp/ipython-input-29-1375971581.py\u001b[0m in \u001b[0;36m<cell line: 0>\u001b[0;34m()\u001b[0m\n\u001b[1;32m      6\u001b[0m     \u001b[0mprint\u001b[0m\u001b[0;34m(\u001b[0m\u001b[0;34mf\"Predicted label: {predicted_class}\"\u001b[0m\u001b[0;34m)\u001b[0m\u001b[0;34m\u001b[0m\u001b[0;34m\u001b[0m\u001b[0m\n\u001b[1;32m      7\u001b[0m     \u001b[0mprint\u001b[0m\u001b[0;34m(\u001b[0m\u001b[0;34mf\"True label: {labels[i].numpy()}\"\u001b[0m\u001b[0;34m)\u001b[0m\u001b[0;34m\u001b[0m\u001b[0;34m\u001b[0m\u001b[0m\n\u001b[0;32m----> 8\u001b[0;31m     \u001b[0memojify_test\u001b[0m\u001b[0;34m(\u001b[0m\u001b[0mpredicted_class\u001b[0m\u001b[0;34m)\u001b[0m\u001b[0;34m\u001b[0m\u001b[0;34m\u001b[0m\u001b[0m\n\u001b[0m\u001b[1;32m      9\u001b[0m     \u001b[0memojify_test\u001b[0m\u001b[0;34m(\u001b[0m\u001b[0mlabels\u001b[0m\u001b[0;34m[\u001b[0m\u001b[0mi\u001b[0m\u001b[0;34m]\u001b[0m\u001b[0;34m.\u001b[0m\u001b[0mnumpy\u001b[0m\u001b[0;34m(\u001b[0m\u001b[0;34m)\u001b[0m\u001b[0;34m)\u001b[0m\u001b[0;34m\u001b[0m\u001b[0;34m\u001b[0m\u001b[0m\n",
            "\u001b[0;31mNameError\u001b[0m: name 'emojify_test' is not defined"
          ]
        }
      ]
    },
    {
      "cell_type": "code",
      "source": [
        "import csv\n",
        "rows = []\n",
        "index = 0\n",
        "for batch in test_dataset:\n",
        "    inputs, labels = batch\n",
        "    for i in range(labels.shape[0]):\n",
        "        predicted_class = np.argmax(y_pred[index])\n",
        "        true_label = labels[i].numpy()\n",
        "        input_text = X_test.iloc[index]\n",
        "        rows.append([input_text, predicted_class, true_label])\n",
        "        index += 1\n",
        "\n",
        "with open(\"test_predictions.csv\", mode=\"w\", newline='', encoding='utf-8') as f:\n",
        "    writer = csv.writer(f)\n",
        "    writer.writerow([\"Input Text\", \"Predicted Label\", \"True Label\"])\n",
        "    writer.writerows(rows)\n",
        "\n",
        "print(\"Saved test_predictions.csv successfully.\")\n"
      ],
      "metadata": {
        "colab": {
          "base_uri": "https://localhost:8080/"
        },
        "id": "ZaIu1JQuYpv2",
        "outputId": "04f7ab3e-e63d-4d81-b79d-559d788c49ca"
      },
      "execution_count": null,
      "outputs": [
        {
          "output_type": "stream",
          "name": "stdout",
          "text": [
            "Saved test_predictions.csv successfully.\n"
          ]
        }
      ]
    }
  ],
  "metadata": {
    "colab": {
      "provenance": []
    },
    "kernelspec": {
      "display_name": "Python 3",
      "name": "python3"
    },
    "language_info": {
      "name": "python"
    }
  },
  "nbformat": 4,
  "nbformat_minor": 0
}